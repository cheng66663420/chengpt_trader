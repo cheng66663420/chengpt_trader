{
 "cells": [
  {
   "cell_type": "code",
   "execution_count": 23,
   "metadata": {},
   "outputs": [
    {
     "data": {
      "text/html": [
       "<div><style>\n",
       ".dataframe > thead > tr,\n",
       ".dataframe > tbody > tr {\n",
       "  text-align: right;\n",
       "  white-space: pre-wrap;\n",
       "}\n",
       "</style>\n",
       "<small>shape: (2_543_650, 9)</small><table border=\"1\" class=\"dataframe\"><thead><tr><th>time</th><th>ticker_symbol</th><th>interest</th><th>stockBonus</th><th>stockGift</th><th>allotNum</th><th>allotPrice</th><th>gugai</th><th>dr</th></tr><tr><td>datetime[μs]</td><td>str</td><td>f64</td><td>f64</td><td>f64</td><td>f64</td><td>f64</td><td>f64</td><td>f64</td></tr></thead><tbody><tr><td>2023-01-03 00:00:00</td><td>&quot;000001.SZ&quot;</td><td>0.228</td><td>0.0</td><td>0.0</td><td>0.0</td><td>0.0</td><td>0.0</td><td>1.017996</td></tr><tr><td>2023-01-03 00:00:00</td><td>&quot;000002.SZ&quot;</td><td>0.976126</td><td>0.0</td><td>0.0</td><td>0.0</td><td>0.0</td><td>0.0</td><td>1.062659</td></tr><tr><td>2023-01-03 00:00:00</td><td>&quot;000004.SZ&quot;</td><td>0.0</td><td>0.25</td><td>0.0</td><td>0.0</td><td>0.0</td><td>1.0</td><td>1.25</td></tr><tr><td>2023-01-03 00:00:00</td><td>&quot;000006.SZ&quot;</td><td>0.121</td><td>0.0</td><td>0.0</td><td>0.0</td><td>0.0</td><td>0.0</td><td>1.028037</td></tr><tr><td>2023-01-03 00:00:00</td><td>&quot;000007.SZ&quot;</td><td>0.0</td><td>0.0</td><td>0.5</td><td>0.0</td><td>0.0</td><td>0.0</td><td>1.500315</td></tr><tr><td>&hellip;</td><td>&hellip;</td><td>&hellip;</td><td>&hellip;</td><td>&hellip;</td><td>&hellip;</td><td>&hellip;</td><td>&hellip;</td><td>&hellip;</td></tr><tr><td>2024-11-19 00:00:00</td><td>&quot;900945.SH&quot;</td><td>0.002858</td><td>0.0</td><td>0.0</td><td>0.0</td><td>0.0</td><td>0.0</td><td>1.001851</td></tr><tr><td>2024-11-19 00:00:00</td><td>&quot;900947.SH&quot;</td><td>0.00747</td><td>0.0</td><td>0.0</td><td>0.0</td><td>0.0</td><td>0.0</td><td>1.011538</td></tr><tr><td>2024-11-19 00:00:00</td><td>&quot;900948.SH&quot;</td><td>0.138733</td><td>0.0</td><td>0.0</td><td>0.0</td><td>0.0</td><td>0.0</td><td>1.097945</td></tr><tr><td>2024-11-19 00:00:00</td><td>&quot;900952.SH&quot;</td><td>0.002964</td><td>0.0</td><td>0.0</td><td>0.0</td><td>0.0</td><td>0.0</td><td>0.996153</td></tr><tr><td>2024-11-19 00:00:00</td><td>&quot;900957.SH&quot;</td><td>0.001208</td><td>0.0</td><td>0.0</td><td>0.0</td><td>0.0</td><td>0.0</td><td>1.010638</td></tr></tbody></table></div>"
      ],
      "text/plain": [
       "shape: (2_543_650, 9)\n",
       "┌─────────────┬─────────────┬──────────┬────────────┬───┬──────────┬────────────┬───────┬──────────┐\n",
       "│ time        ┆ ticker_symb ┆ interest ┆ stockBonus ┆ … ┆ allotNum ┆ allotPrice ┆ gugai ┆ dr       │\n",
       "│ ---         ┆ ol          ┆ ---      ┆ ---        ┆   ┆ ---      ┆ ---        ┆ ---   ┆ ---      │\n",
       "│ datetime[μs ┆ ---         ┆ f64      ┆ f64        ┆   ┆ f64      ┆ f64        ┆ f64   ┆ f64      │\n",
       "│ ]           ┆ str         ┆          ┆            ┆   ┆          ┆            ┆       ┆          │\n",
       "╞═════════════╪═════════════╪══════════╪════════════╪═══╪══════════╪════════════╪═══════╪══════════╡\n",
       "│ 2023-01-03  ┆ 000001.SZ   ┆ 0.228    ┆ 0.0        ┆ … ┆ 0.0      ┆ 0.0        ┆ 0.0   ┆ 1.017996 │\n",
       "│ 00:00:00    ┆             ┆          ┆            ┆   ┆          ┆            ┆       ┆          │\n",
       "│ 2023-01-03  ┆ 000002.SZ   ┆ 0.976126 ┆ 0.0        ┆ … ┆ 0.0      ┆ 0.0        ┆ 0.0   ┆ 1.062659 │\n",
       "│ 00:00:00    ┆             ┆          ┆            ┆   ┆          ┆            ┆       ┆          │\n",
       "│ 2023-01-03  ┆ 000004.SZ   ┆ 0.0      ┆ 0.25       ┆ … ┆ 0.0      ┆ 0.0        ┆ 1.0   ┆ 1.25     │\n",
       "│ 00:00:00    ┆             ┆          ┆            ┆   ┆          ┆            ┆       ┆          │\n",
       "│ 2023-01-03  ┆ 000006.SZ   ┆ 0.121    ┆ 0.0        ┆ … ┆ 0.0      ┆ 0.0        ┆ 0.0   ┆ 1.028037 │\n",
       "│ 00:00:00    ┆             ┆          ┆            ┆   ┆          ┆            ┆       ┆          │\n",
       "│ 2023-01-03  ┆ 000007.SZ   ┆ 0.0      ┆ 0.0        ┆ … ┆ 0.0      ┆ 0.0        ┆ 0.0   ┆ 1.500315 │\n",
       "│ 00:00:00    ┆             ┆          ┆            ┆   ┆          ┆            ┆       ┆          │\n",
       "│ …           ┆ …           ┆ …        ┆ …          ┆ … ┆ …        ┆ …          ┆ …     ┆ …        │\n",
       "│ 2024-11-19  ┆ 900945.SH   ┆ 0.002858 ┆ 0.0        ┆ … ┆ 0.0      ┆ 0.0        ┆ 0.0   ┆ 1.001851 │\n",
       "│ 00:00:00    ┆             ┆          ┆            ┆   ┆          ┆            ┆       ┆          │\n",
       "│ 2024-11-19  ┆ 900947.SH   ┆ 0.00747  ┆ 0.0        ┆ … ┆ 0.0      ┆ 0.0        ┆ 0.0   ┆ 1.011538 │\n",
       "│ 00:00:00    ┆             ┆          ┆            ┆   ┆          ┆            ┆       ┆          │\n",
       "│ 2024-11-19  ┆ 900948.SH   ┆ 0.138733 ┆ 0.0        ┆ … ┆ 0.0      ┆ 0.0        ┆ 0.0   ┆ 1.097945 │\n",
       "│ 00:00:00    ┆             ┆          ┆            ┆   ┆          ┆            ┆       ┆          │\n",
       "│ 2024-11-19  ┆ 900952.SH   ┆ 0.002964 ┆ 0.0        ┆ … ┆ 0.0      ┆ 0.0        ┆ 0.0   ┆ 0.996153 │\n",
       "│ 00:00:00    ┆             ┆          ┆            ┆   ┆          ┆            ┆       ┆          │\n",
       "│ 2024-11-19  ┆ 900957.SH   ┆ 0.001208 ┆ 0.0        ┆ … ┆ 0.0      ┆ 0.0        ┆ 0.0   ┆ 1.010638 │\n",
       "│ 00:00:00    ┆             ┆          ┆            ┆   ┆          ┆            ┆       ┆          │\n",
       "└─────────────┴─────────────┴──────────┴────────────┴───┴──────────┴────────────┴───────┴──────────┘"
      ]
     },
     "execution_count": 23,
     "metadata": {},
     "output_type": "execute_result"
    }
   ],
   "source": [
    "import polars as pl\n",
    "import duckdb\n",
    "file_path = \"D:/qmt_datadir/adjust_factor/\"\n",
    "\n",
    "\n",
    "df = duckdb.sql(\"\"\"\n",
    "    SELECT \n",
    "        *\n",
    "    FROM \n",
    "        read_parquet('D:/qmt_datadir/adjust_factor/*.parquet')\n",
    "    WHERE\n",
    "        time >= '2023-01-01'\n",
    "    ORDER BY\n",
    "        time\n",
    "\"\"\").pl()\n",
    "df"
   ]
  },
  {
   "cell_type": "code",
   "execution_count": null,
   "metadata": {},
   "outputs": [],
   "source": [
    "import glob\n",
    "import datetime\n",
    "date = datetime.date(2023, 1, 1)\n",
    "queries = []\n",
    "for file in glob.glob(f\"{file_path}*.parquet\"):\n",
    "    q = pl.scan_parquet(file).with_columns(\n",
    "        pl.col(\"time\").cast(pl.Datetime),\n",
    "    )\n",
    "    queries.append(q)\n",
    "dataframes = pl.collect_all(queries)\n",
    "df = pl.concat(dataframes)"
   ]
  },
  {
   "cell_type": "code",
   "execution_count": null,
   "metadata": {},
   "outputs": [
    {
     "name": "stdout",
     "output_type": "stream",
     "text": [
      "Column: time, Compression: SNAPPY\n",
      "Column: ticker_symbol, Compression: SNAPPY\n",
      "Column: interest, Compression: SNAPPY\n",
      "Column: stockBonus, Compression: SNAPPY\n",
      "Column: stockGift, Compression: SNAPPY\n",
      "Column: allotNum, Compression: SNAPPY\n",
      "Column: allotPrice, Compression: SNAPPY\n",
      "Column: gugai, Compression: SNAPPY\n",
      "Column: dr, Compression: SNAPPY\n",
      "None\n"
     ]
    }
   ],
   "source": [
    "import pyarrow.parquet as pq\n",
    "\n",
    "# 读取 Parquet 文件的元数据\n",
    "parquet_file = pq.ParquetFile(\"D:/qmt_datadir/adjust_factor/202405.parquet\")\n",
    "\n",
    "# 获取文件的元数据\n",
    "metadata = parquet_file.metadata\n",
    "\n",
    "# 查看压缩类型\n",
    "for i in range(metadata.num_row_groups):\n",
    "    row_group_metadata = metadata.row_group(i)\n",
    "    for j in range(row_group_metadata.num_columns):\n",
    "        column_chunk = row_group_metadata.column(j)\n",
    "        print(f\"Column: {column_chunk.path_in_schema}, Compression: {column_chunk.compression}\")\n"
   ]
  },
  {
   "cell_type": "code",
   "execution_count": 34,
   "metadata": {},
   "outputs": [],
   "source": [
    "df = df.with_columns(\n",
    "    year_month=pl.col(\"time\").dt.strftime(\"%Y%m\")\n",
    ")"
   ]
  },
  {
   "cell_type": "code",
   "execution_count": 57,
   "metadata": {},
   "outputs": [],
   "source": [
    "year_month_list = df.select(pl.col(\"year_month\")).unique().sort(by=\"year_month\").to_series().to_list()"
   ]
  },
  {
   "cell_type": "code",
   "execution_count": 70,
   "metadata": {},
   "outputs": [],
   "source": [
    "for i in year_month_list:\n",
    "    temp = (\n",
    "        df.lazy()\n",
    "        .filter(pl.col(\"year_month\") == i)\n",
    "        .unique(subset=[\"time\", \"ticker_symbol\"], keep=\"last\", maintain_order=True)\n",
    "        .select(pl.all().exclude(\"year_month\"))\n",
    "        .sort([\"time\", 'ticker_symbol'])\n",
    "    ).collect()\n",
    "    temp.write_parquet(f\"f:/test/{i}.parquet\", compression=\"snappy\")"
   ]
  },
  {
   "cell_type": "code",
   "execution_count": 71,
   "metadata": {},
   "outputs": [
    {
     "data": {
      "text/html": [
       "<div><style>\n",
       ".dataframe > thead > tr,\n",
       ".dataframe > tbody > tr {\n",
       "  text-align: right;\n",
       "  white-space: pre-wrap;\n",
       "}\n",
       "</style>\n",
       "<small>shape: (77_942, 9)</small><table border=\"1\" class=\"dataframe\"><thead><tr><th>time</th><th>ticker_symbol</th><th>interest</th><th>stockBonus</th><th>stockGift</th><th>allotNum</th><th>allotPrice</th><th>gugai</th><th>dr</th></tr><tr><td>datetime[μs]</td><td>str</td><td>f64</td><td>f64</td><td>f64</td><td>f64</td><td>f64</td><td>f64</td><td>f64</td></tr></thead><tbody><tr><td>2024-11-01 00:00:00</td><td>&quot;000001.SZ&quot;</td><td>0.246</td><td>0.0</td><td>0.0</td><td>0.0</td><td>0.0</td><td>0.0</td><td>1.021872</td></tr><tr><td>2024-11-01 00:00:00</td><td>&quot;000002.SZ&quot;</td><td>0.68</td><td>0.0</td><td>0.0</td><td>0.0</td><td>0.0</td><td>0.0</td><td>1.052187</td></tr><tr><td>2024-11-01 00:00:00</td><td>&quot;000004.SZ&quot;</td><td>0.0</td><td>0.25</td><td>0.0</td><td>0.0</td><td>0.0</td><td>1.0</td><td>1.25</td></tr><tr><td>2024-11-01 00:00:00</td><td>&quot;000006.SZ&quot;</td><td>0.094</td><td>0.0</td><td>0.0</td><td>0.0</td><td>0.0</td><td>0.0</td><td>1.020547</td></tr><tr><td>2024-11-01 00:00:00</td><td>&quot;000007.SZ&quot;</td><td>0.0</td><td>0.0</td><td>0.5</td><td>0.0</td><td>0.0</td><td>0.0</td><td>1.500315</td></tr><tr><td>&hellip;</td><td>&hellip;</td><td>&hellip;</td><td>&hellip;</td><td>&hellip;</td><td>&hellip;</td><td>&hellip;</td><td>&hellip;</td><td>&hellip;</td></tr><tr><td>2024-11-19 00:00:00</td><td>&quot;900945.SH&quot;</td><td>0.002858</td><td>0.0</td><td>0.0</td><td>0.0</td><td>0.0</td><td>0.0</td><td>1.001851</td></tr><tr><td>2024-11-19 00:00:00</td><td>&quot;900947.SH&quot;</td><td>0.00747</td><td>0.0</td><td>0.0</td><td>0.0</td><td>0.0</td><td>0.0</td><td>1.011538</td></tr><tr><td>2024-11-19 00:00:00</td><td>&quot;900948.SH&quot;</td><td>0.138733</td><td>0.0</td><td>0.0</td><td>0.0</td><td>0.0</td><td>0.0</td><td>1.097945</td></tr><tr><td>2024-11-19 00:00:00</td><td>&quot;900952.SH&quot;</td><td>0.002964</td><td>0.0</td><td>0.0</td><td>0.0</td><td>0.0</td><td>0.0</td><td>0.996153</td></tr><tr><td>2024-11-19 00:00:00</td><td>&quot;900957.SH&quot;</td><td>0.001208</td><td>0.0</td><td>0.0</td><td>0.0</td><td>0.0</td><td>0.0</td><td>1.010638</td></tr></tbody></table></div>"
      ],
      "text/plain": [
       "shape: (77_942, 9)\n",
       "┌─────────────┬─────────────┬──────────┬────────────┬───┬──────────┬────────────┬───────┬──────────┐\n",
       "│ time        ┆ ticker_symb ┆ interest ┆ stockBonus ┆ … ┆ allotNum ┆ allotPrice ┆ gugai ┆ dr       │\n",
       "│ ---         ┆ ol          ┆ ---      ┆ ---        ┆   ┆ ---      ┆ ---        ┆ ---   ┆ ---      │\n",
       "│ datetime[μs ┆ ---         ┆ f64      ┆ f64        ┆   ┆ f64      ┆ f64        ┆ f64   ┆ f64      │\n",
       "│ ]           ┆ str         ┆          ┆            ┆   ┆          ┆            ┆       ┆          │\n",
       "╞═════════════╪═════════════╪══════════╪════════════╪═══╪══════════╪════════════╪═══════╪══════════╡\n",
       "│ 2024-11-01  ┆ 000001.SZ   ┆ 0.246    ┆ 0.0        ┆ … ┆ 0.0      ┆ 0.0        ┆ 0.0   ┆ 1.021872 │\n",
       "│ 00:00:00    ┆             ┆          ┆            ┆   ┆          ┆            ┆       ┆          │\n",
       "│ 2024-11-01  ┆ 000002.SZ   ┆ 0.68     ┆ 0.0        ┆ … ┆ 0.0      ┆ 0.0        ┆ 0.0   ┆ 1.052187 │\n",
       "│ 00:00:00    ┆             ┆          ┆            ┆   ┆          ┆            ┆       ┆          │\n",
       "│ 2024-11-01  ┆ 000004.SZ   ┆ 0.0      ┆ 0.25       ┆ … ┆ 0.0      ┆ 0.0        ┆ 1.0   ┆ 1.25     │\n",
       "│ 00:00:00    ┆             ┆          ┆            ┆   ┆          ┆            ┆       ┆          │\n",
       "│ 2024-11-01  ┆ 000006.SZ   ┆ 0.094    ┆ 0.0        ┆ … ┆ 0.0      ┆ 0.0        ┆ 0.0   ┆ 1.020547 │\n",
       "│ 00:00:00    ┆             ┆          ┆            ┆   ┆          ┆            ┆       ┆          │\n",
       "│ 2024-11-01  ┆ 000007.SZ   ┆ 0.0      ┆ 0.0        ┆ … ┆ 0.0      ┆ 0.0        ┆ 0.0   ┆ 1.500315 │\n",
       "│ 00:00:00    ┆             ┆          ┆            ┆   ┆          ┆            ┆       ┆          │\n",
       "│ …           ┆ …           ┆ …        ┆ …          ┆ … ┆ …        ┆ …          ┆ …     ┆ …        │\n",
       "│ 2024-11-19  ┆ 900945.SH   ┆ 0.002858 ┆ 0.0        ┆ … ┆ 0.0      ┆ 0.0        ┆ 0.0   ┆ 1.001851 │\n",
       "│ 00:00:00    ┆             ┆          ┆            ┆   ┆          ┆            ┆       ┆          │\n",
       "│ 2024-11-19  ┆ 900947.SH   ┆ 0.00747  ┆ 0.0        ┆ … ┆ 0.0      ┆ 0.0        ┆ 0.0   ┆ 1.011538 │\n",
       "│ 00:00:00    ┆             ┆          ┆            ┆   ┆          ┆            ┆       ┆          │\n",
       "│ 2024-11-19  ┆ 900948.SH   ┆ 0.138733 ┆ 0.0        ┆ … ┆ 0.0      ┆ 0.0        ┆ 0.0   ┆ 1.097945 │\n",
       "│ 00:00:00    ┆             ┆          ┆            ┆   ┆          ┆            ┆       ┆          │\n",
       "│ 2024-11-19  ┆ 900952.SH   ┆ 0.002964 ┆ 0.0        ┆ … ┆ 0.0      ┆ 0.0        ┆ 0.0   ┆ 0.996153 │\n",
       "│ 00:00:00    ┆             ┆          ┆            ┆   ┆          ┆            ┆       ┆          │\n",
       "│ 2024-11-19  ┆ 900957.SH   ┆ 0.001208 ┆ 0.0        ┆ … ┆ 0.0      ┆ 0.0        ┆ 0.0   ┆ 1.010638 │\n",
       "│ 00:00:00    ┆             ┆          ┆            ┆   ┆          ┆            ┆       ┆          │\n",
       "└─────────────┴─────────────┴──────────┴────────────┴───┴──────────┴────────────┴───────┴──────────┘"
      ]
     },
     "execution_count": 71,
     "metadata": {},
     "output_type": "execute_result"
    }
   ],
   "source": [
    "temp"
   ]
  }
 ],
 "metadata": {
  "kernelspec": {
   "display_name": "my312",
   "language": "python",
   "name": "python3"
  },
  "language_info": {
   "codemirror_mode": {
    "name": "ipython",
    "version": 3
   },
   "file_extension": ".py",
   "mimetype": "text/x-python",
   "name": "python",
   "nbconvert_exporter": "python",
   "pygments_lexer": "ipython3",
   "version": "3.12.7"
  }
 },
 "nbformat": 4,
 "nbformat_minor": 2
}
