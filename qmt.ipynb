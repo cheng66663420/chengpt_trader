{
 "cells": [
  {
   "cell_type": "code",
   "execution_count": 2,
   "metadata": {},
   "outputs": [],
   "source": [
    "\n",
    "import pandas as pd\n",
    "from qmt_data import QmtData\n",
    "import os\n",
    "import datetime\n",
    "from xtquant import xtdata"
   ]
  },
  {
   "cell_type": "code",
   "execution_count": 7,
   "metadata": {},
   "outputs": [],
   "source": [
    "today = datetime.datetime.today().strftime(\"%Y%m%d\")"
   ]
  },
  {
   "cell_type": "code",
   "execution_count": 2,
   "metadata": {},
   "outputs": [],
   "source": [
    "qmt_data = QmtData()\n",
    "ticker_df = qmt_data.get_tickers()\n",
    "stock_list = ticker_df[\"ticker\"].tolist()\n",
    "\n"
   ]
  },
  {
   "cell_type": "code",
   "execution_count": 15,
   "metadata": {},
   "outputs": [],
   "source": [
    "for ticker in stock_list:\n",
    "    df = xtdata.get_divid_factors(ticker, start_time=\"20000101\", end_time=\"20240820\")\n",
    "    if df.empty:\n",
    "        continue\n",
    "    df = (\n",
    "        df\n",
    "        .reset_index()\n",
    "        .rename(columns={\"index\": \"trade_time\"})\n",
    "        .drop(columns=[\"time\"])\n",
    "    )\n",
    "    df[\"trade_time\"] = pd.to_datetime(df[\"trade_time\"])\n",
    "    df.to_parquet(f\"D:/qmt_datadir/adjust_factor/{ticker}.parquet\", compression=\"snappy\")"
   ]
  },
  {
   "cell_type": "code",
   "execution_count": 15,
   "metadata": {},
   "outputs": [
    {
     "ename": "Exception",
     "evalue": "无法连接xtquant服务，请检查QMT-投研版或QMT-极简版是否开启",
     "output_type": "error",
     "traceback": [
      "\u001b[1;31m---------------------------------------------------------------------------\u001b[0m",
      "\u001b[1;31mException\u001b[0m                                 Traceback (most recent call last)",
      "Cell \u001b[1;32mIn[15], line 1\u001b[0m\n\u001b[1;32m----> 1\u001b[0m trade_time \u001b[38;5;241m=\u001b[39m pd\u001b[38;5;241m.\u001b[39mDataFrame(\u001b[43mxtdata\u001b[49m\u001b[38;5;241;43m.\u001b[39;49m\u001b[43mget_trading_dates\u001b[49m\u001b[43m(\u001b[49m\u001b[38;5;124;43m\"\u001b[39;49m\u001b[38;5;124;43mSH\u001b[39;49m\u001b[38;5;124;43m\"\u001b[39;49m\u001b[43m)\u001b[49m, columns\u001b[38;5;241m=\u001b[39m[\u001b[38;5;124m\"\u001b[39m\u001b[38;5;124mtrade_time\u001b[39m\u001b[38;5;124m\"\u001b[39m])\n\u001b[0;32m      2\u001b[0m trade_time[\u001b[38;5;124m\"\u001b[39m\u001b[38;5;124mtrade_time\u001b[39m\u001b[38;5;124m\"\u001b[39m] \u001b[38;5;241m=\u001b[39m trade_time[\u001b[38;5;124m\"\u001b[39m\u001b[38;5;124mtrade_time\u001b[39m\u001b[38;5;124m\"\u001b[39m]\u001b[38;5;241m.\u001b[39mapply(\u001b[38;5;28;01mlambda\u001b[39;00m s:datetime\u001b[38;5;241m.\u001b[39mfromtimestamp(s \u001b[38;5;241m/\u001b[39m \u001b[38;5;241m1000\u001b[39m))\n",
      "File \u001b[1;32md:\\miniforge3\\envs\\my312\\Lib\\site-packages\\xtquant\\xtdata.py:912\u001b[0m, in \u001b[0;36mget_trading_dates\u001b[1;34m(market, start_time, end_time, count)\u001b[0m\n\u001b[0;32m    903\u001b[0m \u001b[38;5;28;01mdef\u001b[39;00m \u001b[38;5;21mget_trading_dates\u001b[39m(market, start_time\u001b[38;5;241m=\u001b[39m\u001b[38;5;124m'\u001b[39m\u001b[38;5;124m'\u001b[39m, end_time\u001b[38;5;241m=\u001b[39m\u001b[38;5;124m'\u001b[39m\u001b[38;5;124m'\u001b[39m, count\u001b[38;5;241m=\u001b[39m\u001b[38;5;241m-\u001b[39m\u001b[38;5;241m1\u001b[39m):\n\u001b[0;32m    904\u001b[0m \u001b[38;5;250m    \u001b[39m\u001b[38;5;124;03m'''\u001b[39;00m\n\u001b[0;32m    905\u001b[0m \u001b[38;5;124;03m    根据市场获取交易日列表\u001b[39;00m\n\u001b[0;32m    906\u001b[0m \u001b[38;5;124;03m    : param market: 市场代码 e.g. 'SH','SZ','IF','DF','SF','ZF'等\u001b[39;00m\n\u001b[1;32m   (...)\u001b[0m\n\u001b[0;32m    910\u001b[0m \u001b[38;5;124;03m    :return list(long) 毫秒数的时间戳列表\u001b[39;00m\n\u001b[0;32m    911\u001b[0m \u001b[38;5;124;03m    '''\u001b[39;00m\n\u001b[1;32m--> 912\u001b[0m     client \u001b[38;5;241m=\u001b[39m \u001b[43mget_client\u001b[49m\u001b[43m(\u001b[49m\u001b[43m)\u001b[49m\n\u001b[0;32m    913\u001b[0m     datas \u001b[38;5;241m=\u001b[39m client\u001b[38;5;241m.\u001b[39mget_trading_dates_by_market(market, start_time, end_time, count)\n\u001b[0;32m    914\u001b[0m     \u001b[38;5;28;01mreturn\u001b[39;00m datas\n",
      "File \u001b[1;32md:\\miniforge3\\envs\\my312\\Lib\\site-packages\\xtquant\\xtdata.py:188\u001b[0m, in \u001b[0;36mget_client\u001b[1;34m()\u001b[0m\n\u001b[0;32m    185\u001b[0m     \u001b[38;5;28;01mglobal\u001b[39;00m __client_last_spec\n\u001b[0;32m    187\u001b[0m     ip, port \u001b[38;5;241m=\u001b[39m __client_last_spec\n\u001b[1;32m--> 188\u001b[0m     __client \u001b[38;5;241m=\u001b[39m \u001b[43mconnect\u001b[49m\u001b[43m(\u001b[49m\u001b[43mip\u001b[49m\u001b[43m,\u001b[49m\u001b[43m \u001b[49m\u001b[43mport\u001b[49m\u001b[43m,\u001b[49m\u001b[43m \u001b[49m\u001b[38;5;28;43;01mFalse\u001b[39;49;00m\u001b[43m)\u001b[49m\n\u001b[0;32m    190\u001b[0m \u001b[38;5;28;01mreturn\u001b[39;00m __client\n",
      "File \u001b[1;32md:\\miniforge3\\envs\\my312\\Lib\\site-packages\\xtquant\\xtdata.py:135\u001b[0m, in \u001b[0;36mconnect\u001b[1;34m(ip, port, remember_if_success)\u001b[0m\n\u001b[0;32m    132\u001b[0m __client \u001b[38;5;241m=\u001b[39m xtconn\u001b[38;5;241m.\u001b[39mconnect_any(server_list, start_port, end_port)\n\u001b[0;32m    134\u001b[0m \u001b[38;5;28;01mif\u001b[39;00m \u001b[38;5;129;01mnot\u001b[39;00m __client \u001b[38;5;129;01mor\u001b[39;00m \u001b[38;5;129;01mnot\u001b[39;00m __client\u001b[38;5;241m.\u001b[39mis_connected():\n\u001b[1;32m--> 135\u001b[0m     \u001b[38;5;28;01mraise\u001b[39;00m \u001b[38;5;167;01mException\u001b[39;00m(\u001b[38;5;124m\"\u001b[39m\u001b[38;5;124m无法连接xtquant服务，请检查QMT-投研版或QMT-极简版是否开启\u001b[39m\u001b[38;5;124m\"\u001b[39m)\n\u001b[0;32m    137\u001b[0m \u001b[38;5;28;01mif\u001b[39;00m remember_if_success:\n\u001b[0;32m    138\u001b[0m     \u001b[38;5;28;01mglobal\u001b[39;00m __client_last_spec\n",
      "\u001b[1;31mException\u001b[0m: 无法连接xtquant服务，请检查QMT-投研版或QMT-极简版是否开启"
     ]
    }
   ],
   "source": [
    "trade_time = pd.DataFrame(xtdata.get_trading_dates(\"SH\"), columns=[\"trade_time\"])\n",
    "trade_time[\"trade_time\"] = trade_time[\"trade_time\"].apply(lambda s:datetime.fromtimestamp(s / 1000))"
   ]
  }
 ],
 "metadata": {
  "kernelspec": {
   "display_name": "my312",
   "language": "python",
   "name": "python3"
  },
  "language_info": {
   "codemirror_mode": {
    "name": "ipython",
    "version": 3
   },
   "file_extension": ".py",
   "mimetype": "text/x-python",
   "name": "python",
   "nbconvert_exporter": "python",
   "pygments_lexer": "ipython3",
   "version": "3.12.4"
  }
 },
 "nbformat": 4,
 "nbformat_minor": 2
}
