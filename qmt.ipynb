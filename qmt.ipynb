{
 "cells": [
  {
   "cell_type": "code",
   "execution_count": 6,
   "metadata": {},
   "outputs": [],
   "source": [
    "\n",
    "import pandas as pd\n",
    "from qmt_data import QmtData\n",
    "import os\n",
    "import datetime"
   ]
  },
  {
   "cell_type": "code",
   "execution_count": 7,
   "metadata": {},
   "outputs": [],
   "source": [
    "today = datetime.datetime.today().strftime(\"%Y%m%d\")"
   ]
  },
  {
   "cell_type": "code",
   "execution_count": 8,
   "metadata": {},
   "outputs": [
    {
     "name": "stderr",
     "output_type": "stream",
     "text": [
      "  0%|          | 4/7853 [00:00<03:27, 37.74it/s]"
     ]
    },
    {
     "name": "stdout",
     "output_type": "stream",
     "text": [
      "Downloaded data for 601882.SH\n",
      "Downloaded data for 603995.SH\n",
      "Downloaded data for 688720.SH\n",
      "Downloaded data for 601128.SH\n",
      "Downloaded data for 600740.SH\n",
      "Downloaded data for 603909.SH\n",
      "Downloaded data for 600734.SH\n",
      "Downloaded data for 600642.SH\n"
     ]
    },
    {
     "name": "stderr",
     "output_type": "stream",
     "text": [
      "  0%|          | 14/7853 [00:00<03:06, 41.92it/s]"
     ]
    },
    {
     "name": "stdout",
     "output_type": "stream",
     "text": [
      "Downloaded data for 600259.SH\n",
      "Downloaded data for 605298.SH\n",
      "Downloaded data for 601968.SH\n",
      "Downloaded data for 600636.SH\n",
      "Downloaded data for 688239.SH\n",
      "Downloaded data for 688622.SH\n",
      "Downloaded data for 603897.SH\n",
      "Downloaded data for 688656.SH\n"
     ]
    },
    {
     "name": "stderr",
     "output_type": "stream",
     "text": [
      "  0%|          | 24/7853 [00:00<02:58, 43.89it/s]"
     ]
    },
    {
     "name": "stdout",
     "output_type": "stream",
     "text": [
      "Downloaded data for 600029.SH\n",
      "Downloaded data for 600983.SH\n",
      "Downloaded data for 600446.SH\n",
      "Downloaded data for 688049.SH\n",
      "Downloaded data for 688426.SH\n",
      "Downloaded data for 603722.SH\n",
      "Downloaded data for 603339.SH\n",
      "Downloaded data for 600869.SH\n"
     ]
    },
    {
     "name": "stderr",
     "output_type": "stream",
     "text": [
      "  0%|          | 29/7853 [00:00<03:01, 43.12it/s]"
     ]
    },
    {
     "name": "stdout",
     "output_type": "stream",
     "text": [
      "Downloaded data for 688550.SH\n",
      "Downloaded data for 600881.SH\n",
      "Downloaded data for 600530.SH\n",
      "Downloaded data for 688435.SH\n",
      "Downloaded data for 600421.SH\n",
      "Downloaded data for 600990.SH\n",
      "Downloaded data for 600455.SH\n",
      "Downloaded data for 600892.SH\n",
      "Downloaded data for 600138.SH\n"
     ]
    },
    {
     "name": "stderr",
     "output_type": "stream",
     "text": [
      "  0%|          | 39/7853 [00:00<03:00, 43.20it/s]"
     ]
    },
    {
     "name": "stdout",
     "output_type": "stream",
     "text": [
      "Downloaded data for 600523.SH\n",
      "Downloaded data for 600557.SH\n",
      "Downloaded data for 605111.SH\n",
      "Downloaded data for 688543.SH\n",
      "Downloaded data for 688158.SH\n",
      "Downloaded data for 603633.SH\n",
      "Downloaded data for 603228.SH\n",
      "Downloaded data for 605389.SH\n"
     ]
    },
    {
     "name": "stderr",
     "output_type": "stream",
     "text": [
      "  1%|          | 44/7853 [00:01<02:58, 43.76it/s]"
     ]
    },
    {
     "name": "stdout",
     "output_type": "stream",
     "text": [
      "Downloaded data for 600753.SH\n",
      "Downloaded data for 600348.SH\n",
      "Downloaded data for 600727.SH\n",
      "Downloaded data for 688328.SH\n",
      "Downloaded data for 603986.SH\n",
      "Downloaded data for 688733.SH\n",
      "Downloaded data for 603058.SH\n",
      "Downloaded data for 688631.SH\n"
     ]
    },
    {
     "name": "stderr",
     "output_type": "stream",
     "text": [
      "  1%|          | 54/7853 [00:01<03:02, 42.80it/s]"
     ]
    },
    {
     "name": "stdout",
     "output_type": "stream",
     "text": [
      "Downloaded data for 603535.SH\n",
      "Downloaded data for 601456.SH\n",
      "Downloaded data for 600651.SH\n",
      "Downloaded data for 603818.SH\n",
      "Downloaded data for 603689.SH\n",
      "Downloaded data for 688196.SH\n",
      "Downloaded data for 600505.SH\n",
      "Downloaded data for 600571.SH\n"
     ]
    },
    {
     "name": "stderr",
     "output_type": "stream",
     "text": [
      "  1%|          | 64/7853 [00:01<02:56, 44.07it/s]"
     ]
    },
    {
     "name": "stdout",
     "output_type": "stream",
     "text": [
      "Downloaded data for 603661.SH\n",
      "Downloaded data for 688565.SH\n",
      "Downloaded data for 603615.SH\n",
      "Downloaded data for 600828.SH\n",
      "Downloaded data for 600182.SH\n",
      "Downloaded data for 600599.SH\n",
      "Downloaded data for 601702.SH\n",
      "Downloaded data for 601319.SH\n",
      "Downloaded data for 688511.SH\n"
     ]
    },
    {
     "name": "stderr",
     "output_type": "stream",
     "text": [
      "  1%|          | 74/7853 [00:01<02:58, 43.59it/s]"
     ]
    },
    {
     "name": "stdout",
     "output_type": "stream",
     "text": [
      "Downloaded data for 603378.SH\n",
      "Downloaded data for 600080.SH\n",
      "Downloaded data for 601600.SH\n",
      "Downloaded data for 688008.SH\n",
      "Downloaded data for 603717.SH\n",
      "Downloaded data for 603390.SH\n",
      "Downloaded data for 600284.SH\n",
      "Downloaded data for 688617.SH\n"
     ]
    },
    {
     "name": "stderr",
     "output_type": "stream",
     "text": [
      "  1%|          | 79/7853 [00:01<02:59, 43.33it/s]"
     ]
    },
    {
     "name": "stdout",
     "output_type": "stream",
     "text": [
      "Downloaded data for 603108.SH\n",
      "Downloaded data for 688663.SH\n",
      "Downloaded data for 688278.SH\n",
      "Downloaded data for 603567.SH\n",
      "Downloaded data for 688290.SH\n",
      "Downloaded data for 601083.SH\n",
      "Downloaded data for 600218.SH\n",
      "Downloaded data for 600603.SH\n"
     ]
    },
    {
     "name": "stderr",
     "output_type": "stream",
     "text": [
      "  1%|          | 89/7853 [00:02<03:11, 40.53it/s]"
     ]
    },
    {
     "name": "stdout",
     "output_type": "stream",
     "text": [
      "Downloaded data for 601929.SH\n",
      "Downloaded data for 603948.SH\n",
      "Downloaded data for 600775.SH\n",
      "Downloaded data for 603096.SH\n",
      "Downloaded data for 688392.SH\n",
      "Downloaded data for 688789.SH\n",
      "Downloaded data for 600386.SH\n"
     ]
    },
    {
     "name": "stderr",
     "output_type": "stream",
     "text": [
      "  1%|          | 94/7853 [00:02<03:03, 42.21it/s]"
     ]
    },
    {
     "name": "stdout",
     "output_type": "stream",
     "text": [
      "Downloaded data for 605333.SH\n",
      "Downloaded data for 601169.SH\n",
      "Downloaded data for 603859.SH\n",
      "Downloaded data for 600664.SH\n",
      "Downloaded data for 688283.SH\n",
      "Downloaded data for 688698.SH\n",
      "Downloaded data for 600610.SH\n",
      "Downloaded data for 603187.SH\n",
      "Downloaded data for 600297.SH\n"
     ]
    },
    {
     "name": "stderr",
     "output_type": "stream",
     "text": [
      "  1%|▏         | 105/7853 [00:02<02:53, 44.75it/s]"
     ]
    },
    {
     "name": "stdout",
     "output_type": "stream",
     "text": [
      "Downloaded data for 603500.SH\n",
      "Downloaded data for 688670.SH\n",
      "Downloaded data for 605222.SH\n",
      "Downloaded data for 603019.SH\n",
      "Downloaded data for 600395.SH\n",
      "Downloaded data for 601515.SH\n",
      "Downloaded data for 688772.SH\n",
      "Downloaded data for 688369.SH\n",
      "Downloaded data for 601838.SH\n"
     ]
    },
    {
     "name": "stderr",
     "output_type": "stream",
     "text": [
      "  1%|▏         | 110/7853 [00:02<02:58, 43.36it/s]"
     ]
    },
    {
     "name": "stdout",
     "output_type": "stream",
     "text": [
      "Downloaded data for 603085.SH\n",
      "Downloaded data for 688381.SH\n",
      "Downloaded data for 600309.SH\n",
      "Downloaded data for 600712.SH\n",
      "Downloaded data for 603269.SH\n",
      "Downloaded data for 688576.SH\n",
      "Downloaded data for 603606.SH\n"
     ]
    },
    {
     "name": "stderr",
     "output_type": "stream",
     "text": [
      "  2%|▏         | 120/7853 [00:02<03:08, 41.10it/s]"
     ]
    },
    {
     "name": "stdout",
     "output_type": "stream",
     "text": [
      "Downloaded data for 600191.SH\n",
      "Downloaded data for 688119.SH\n",
      "Downloaded data for 688502.SH\n",
      "Downloaded data for 603281.SH\n",
      "Downloaded data for 688185.SH\n",
      "Downloaded data for 600516.SH\n",
      "Downloaded data for 600562.SH\n",
      "Downloaded data for 600179.SH\n"
     ]
    },
    {
     "name": "stderr",
     "output_type": "stream",
     "text": [
      "  2%|▏         | 130/7853 [00:03<03:05, 41.60it/s]"
     ]
    },
    {
     "name": "stdout",
     "output_type": "stream",
     "text": [
      "Downloaded data for 688087.SH\n",
      "Downloaded data for 603798.SH\n",
      "Downloaded data for 603383.SH\n",
      "Downloaded data for 600460.SH\n",
      "Downloaded data for 600488.SH\n",
      "Downloaded data for 601208.SH\n",
      "Downloaded data for 688400.SH\n",
      "Downloaded data for 600939.SH\n"
     ]
    },
    {
     "name": "stderr",
     "output_type": "stream",
     "text": [
      "  2%|▏         | 135/7853 [00:03<03:06, 41.41it/s]"
     ]
    },
    {
     "name": "stdout",
     "output_type": "stream",
     "text": [
      "Downloaded data for 688234.SH\n",
      "Downloaded data for 603130.SH\n",
      "Downloaded data for 603806.SH\n",
      "Downloaded data for 601965.SH\n",
      "Downloaded data for 600739.SH\n",
      "Downloaded data for 600322.SH\n",
      "Downloaded data for 603970.SH\n",
      "Downloaded data for 600356.SH\n",
      "Downloaded data for 603032.SH\n"
     ]
    },
    {
     "name": "stderr",
     "output_type": "stream",
     "text": [
      "  2%|▏         | 145/7853 [00:03<03:02, 42.27it/s]"
     ]
    },
    {
     "name": "stdout",
     "output_type": "stream",
     "text": [
      "Downloaded data for 603429.SH\n",
      "Downloaded data for 603998.SH\n",
      "Downloaded data for 688336.SH\n",
      "Downloaded data for 605588.SH\n",
      "Downloaded data for 600152.SH\n",
      "Downloaded data for 600549.SH\n",
      "Downloaded data for 600126.SH\n",
      "Downloaded data for 603236.SH\n"
     ]
    },
    {
     "name": "stderr",
     "output_type": "stream",
     "text": [
      "  2%|▏         | 155/7853 [00:03<03:04, 41.75it/s]"
     ]
    },
    {
     "name": "stdout",
     "output_type": "stream",
     "text": [
      "Downloaded data for 600810.SH\n",
      "Downloaded data for 688529.SH\n",
      "Downloaded data for 688132.SH\n",
      "Downloaded data for 603659.SH\n",
      "Downloaded data for 600864.SH\n",
      "Downloaded data for 688146.SH\n",
      "Downloaded data for 688030.SH\n",
      "Downloaded data for 600966.SH\n"
     ]
    },
    {
     "name": "stderr",
     "output_type": "stream",
     "text": [
      "  2%|▏         | 160/7853 [00:03<03:01, 42.47it/s]"
     ]
    },
    {
     "name": "stdout",
     "output_type": "stream",
     "text": [
      "Downloaded data for 600050.SH\n",
      "Downloaded data for 603225.SH\n",
      "Downloaded data for 600803.SH\n",
      "Downloaded data for 605168.SH\n",
      "Downloaded data for 688121.SH\n",
      "Downloaded data for 600877.SH\n",
      "Downloaded data for 605507.SH\n",
      "Downloaded data for 688155.SH\n",
      "Downloaded data for 605180.SH\n"
     ]
    },
    {
     "name": "stderr",
     "output_type": "stream",
     "text": [
      "  2%|▏         | 170/7853 [00:04<03:07, 40.91it/s]"
     ]
    },
    {
     "name": "stdout",
     "output_type": "stream",
     "text": [
      "Downloaded data for 600141.SH\n",
      "Downloaded data for 600135.SH\n",
      "Downloaded data for 600458.SH\n",
      "Downloaded data for 605499.SH\n",
      "Downloaded data for 600037.SH\n",
      "Downloaded data for 688023.SH\n",
      "Downloaded data for 603327.SH\n"
     ]
    },
    {
     "name": "stderr",
     "output_type": "stream",
     "text": [
      "  2%|▏         | 180/7853 [00:04<03:02, 41.95it/s]"
     ]
    },
    {
     "name": "stdout",
     "output_type": "stream",
     "text": [
      "Downloaded data for 600901.SH\n",
      "Downloaded data for 688057.SH\n",
      "Downloaded data for 603353.SH\n",
      "Downloaded data for 600975.SH\n",
      "Downloaded data for 603815.SH\n",
      "Downloaded data for 600628.SH\n",
      "Downloaded data for 600233.SH\n",
      "Downloaded data for 603861.SH\n",
      "Downloaded data for 605286.SH\n"
     ]
    },
    {
     "name": "stderr",
     "output_type": "stream",
     "text": [
      "  2%|▏         | 185/7853 [00:04<03:10, 40.23it/s]"
     ]
    },
    {
     "name": "stdout",
     "output_type": "stream",
     "text": [
      "Downloaded data for 688253.SH\n",
      "Downloaded data for 688648.SH\n",
      "Downloaded data for 603889.SH\n",
      "Downloaded data for 688227.SH\n",
      "Downloaded data for 603123.SH\n",
      "Downloaded data for 603538.SH\n",
      "Downloaded data for 603055.SH\n",
      "Downloaded data for 605318.SH\n"
     ]
    },
    {
     "name": "stderr",
     "output_type": "stream",
     "text": [
      "  2%|▏         | 195/7853 [00:04<03:01, 42.16it/s]"
     ]
    },
    {
     "name": "stdout",
     "output_type": "stream",
     "text": [
      "Downloaded data for 688351.SH\n",
      "Downloaded data for 603021.SH\n",
      "Downloaded data for 601136.SH\n",
      "Downloaded data for 688325.SH\n",
      "Downloaded data for 601800.SH\n",
      "Downloaded data for 603917.SH\n",
      "Downloaded data for 600331.SH\n",
      "Downloaded data for 603963.SH\n",
      "Downloaded data for 600345.SH\n"
     ]
    },
    {
     "name": "stderr",
     "output_type": "stream",
     "text": [
      "  3%|▎         | 205/7853 [00:04<03:05, 41.18it/s]"
     ]
    },
    {
     "name": "stdout",
     "output_type": "stream",
     "text": [
      "Downloaded data for 688099.SH\n",
      "Downloaded data for 600011.SH\n",
      "Downloaded data for 603786.SH\n",
      "Downloaded data for 600496.SH\n",
      "Downloaded data for 601216.SH\n",
      "Downloaded data for 688005.SH\n",
      "Downloaded data for 603301.SH\n",
      "Downloaded data for 600927.SH\n"
     ]
    },
    {
     "name": "stderr",
     "output_type": "stream",
     "text": [
      "  3%|▎         | 210/7853 [00:05<03:17, 38.71it/s]"
     ]
    },
    {
     "name": "stdout",
     "output_type": "stream",
     "text": [
      "Downloaded data for 688071.SH\n",
      "Downloaded data for 603375.SH\n",
      "Downloaded data for 603203.SH\n",
      "Downloaded data for 603618.SH\n",
      "Downloaded data for 605555.SH\n",
      "Downloaded data for 600825.SH\n",
      "Downloaded data for 600594.SH\n",
      "Downloaded data for 688107.SH\n"
     ]
    },
    {
     "name": "stderr",
     "output_type": "stream",
     "text": [
      "  3%|▎         | 220/7853 [00:05<03:14, 39.25it/s]"
     ]
    },
    {
     "name": "stdout",
     "output_type": "stream",
     "text": [
      "Downloaded data for 603277.SH\n",
      "Downloaded data for 600851.SH\n",
      "Downloaded data for 688173.SH\n",
      "Downloaded data for 688568.SH\n",
      "Downloaded data for 601360.SH\n",
      "Downloaded data for 600167.SH\n",
      "Downloaded data for 601388.SH\n"
     ]
    },
    {
     "name": "stderr",
     "output_type": "stream",
     "text": [
      "  3%|▎         | 225/7853 [00:05<03:06, 40.92it/s]"
     ]
    },
    {
     "name": "stdout",
     "output_type": "stream",
     "text": [
      "Downloaded data for 688580.SH\n",
      "Downloaded data for 600508.SH\n",
      "Downloaded data for 600113.SH\n",
      "Downloaded data for 603073.SH\n",
      "Downloaded data for 688377.SH\n",
      "Downloaded data for 603007.SH\n",
      "Downloaded data for 600790.SH\n",
      "Downloaded data for 688718.SH\n",
      "Downloaded data for 688303.SH\n"
     ]
    },
    {
     "name": "stderr",
     "output_type": "stream",
     "text": [
      "  3%|▎         | 235/7853 [00:05<02:55, 43.43it/s]"
     ]
    },
    {
     "name": "stdout",
     "output_type": "stream",
     "text": [
      "Downloaded data for 603931.SH\n",
      "Downloaded data for 600363.SH\n",
      "Downloaded data for 600778.SH\n",
      "Downloaded data for 603833.SH\n",
      "Downloaded data for 688686.SH\n",
      "Downloaded data for 600215.SH\n",
      "Downloaded data for 603199.SH\n"
     ]
    },
    {
     "name": "stderr",
     "output_type": "stream",
     "text": [
      "  3%|▎         | 240/7853 [00:05<03:23, 37.46it/s]"
     ]
    },
    {
     "name": "stdout",
     "output_type": "stream",
     "text": [
      "Downloaded data for 600261.SH\n",
      "Downloaded data for 688275.SH\n",
      "Downloaded data for 601066.SH\n",
      "Downloaded data for 603171.SH\n",
      "Downloaded data for 600692.SH\n",
      "Downloaded data for 600289.SH\n",
      "Downloaded data for 601012.SH\n",
      "Downloaded data for 688201.SH\n"
     ]
    },
    {
     "name": "stderr",
     "output_type": "stream",
     "text": [
      "  3%|▎         | 250/7853 [00:06<03:06, 40.83it/s]"
     ]
    },
    {
     "name": "stdout",
     "output_type": "stream",
     "text": [
      "Downloaded data for 603105.SH\n",
      "Downloaded data for 603088.SH\n",
      "Downloaded data for 603922.SH\n",
      "Downloaded data for 603956.SH\n",
      "Downloaded data for 600370.SH\n",
      "Downloaded data for 603060.SH\n",
      "Downloaded data for 601177.SH\n",
      "Downloaded data for 600783.SH\n",
      "Downloaded data for 600398.SH\n"
     ]
    },
    {
     "name": "stderr",
     "output_type": "stream",
     "text": [
      "  3%|▎         | 260/7853 [00:06<03:18, 38.19it/s]"
     ]
    },
    {
     "name": "stdout",
     "output_type": "stream",
     "text": [
      "Downloaded data for 688310.SH\n",
      "Downloaded data for 601518.SH\n",
      "Downloaded data for 688266.SH\n",
      "Downloaded data for 603579.SH\n",
      "Downloaded data for 603162.SH\n",
      "Downloaded data for 600681.SH\n",
      "Downloaded data for 688609.SH\n"
     ]
    },
    {
     "name": "stderr",
     "output_type": "stream",
     "text": [
      "  3%|▎         | 265/7853 [00:06<03:09, 40.02it/s]"
     ]
    },
    {
     "name": "stdout",
     "output_type": "stream",
     "text": [
      "Downloaded data for 601001.SH\n",
      "Downloaded data for 688212.SH\n",
      "Downloaded data for 603116.SH\n",
      "Downloaded data for 688695.SH\n",
      "Downloaded data for 600206.SH\n",
      "Downloaded data for 600272.SH\n",
      "Downloaded data for 688016.SH\n",
      "Downloaded data for 603312.SH\n",
      "Downloaded data for 603709.SH\n"
     ]
    },
    {
     "name": "stderr",
     "output_type": "stream",
     "text": [
      "  4%|▎         | 275/7853 [00:06<03:14, 38.88it/s]"
     ]
    },
    {
     "name": "stdout",
     "output_type": "stream",
     "text": [
      "Downloaded data for 688062.SH\n",
      "Downloaded data for 688479.SH\n",
      "Downloaded data for 603366.SH\n",
      "Downloaded data for 600076.SH\n",
      "Downloaded data for 600419.SH\n",
      "Downloaded data for 603697.SH\n",
      "Downloaded data for 688593.SH\n"
     ]
    },
    {
     "name": "stderr",
     "output_type": "stream",
     "text": [
      "  4%|▎         | 285/7853 [00:06<02:56, 42.89it/s]"
     ]
    },
    {
     "name": "stdout",
     "output_type": "stream",
     "text": [
      "Downloaded data for 688188.SH\n",
      "Downloaded data for 600100.SH\n",
      "Downloaded data for 600587.SH\n",
      "Downloaded data for 688114.SH\n",
      "Downloaded data for 688160.SH\n",
      "Downloaded data for 688025.SH\n",
      "Downloaded data for 601236.SH\n",
      "Downloaded data for 603321.SH\n",
      "Downloaded data for 688051.SH\n"
     ]
    },
    {
     "name": "stderr",
     "output_type": "stream",
     "text": [
      "                                                  \r"
     ]
    },
    {
     "name": "stdout",
     "output_type": "stream",
     "text": [
      "Downloaded data for 603355.SH\n",
      "Downloaded data for 605018.SH\n",
      "Downloaded data for 600973.SH\n",
      "Downloaded data for 600031.SH\n",
      "Downloaded data for 605186.SH\n",
      "Downloaded data for 600133.SH\n",
      "Downloaded data for 600528.SH\n",
      "Downloaded data for 603638.SH\n"
     ]
    },
    {
     "name": "stderr",
     "output_type": "stream",
     "text": [
      "  4%|▍         | 300/7853 [00:07<03:05, 40.80it/s]"
     ]
    },
    {
     "name": "stdout",
     "output_type": "stream",
     "text": [
      "Downloaded data for 603223.SH\n",
      "Downloaded data for 600805.SH\n",
      "Downloaded data for 688127.SH\n",
      "Downloaded data for 600871.SH\n",
      "Downloaded data for 688548.SH\n",
      "Downloaded data for 688153.SH\n",
      "Downloaded data for 600337.SH\n"
     ]
    },
    {
     "name": "stderr",
     "output_type": "stream",
     "text": [
      "  4%|▍         | 305/7853 [00:07<03:04, 40.95it/s]"
     ]
    },
    {
     "name": "stdout",
     "output_type": "stream",
     "text": [
      "Downloaded data for 601872.SH\n",
      "Downloaded data for 600758.SH\n",
      "Downloaded data for 600343.SH\n",
      "Downloaded data for 603053.SH\n",
      "Downloaded data for 688357.SH\n",
      "Downloaded data for 603027.SH\n",
      "Downloaded data for 688323.SH\n",
      "Downloaded data for 688255.SH\n"
     ]
    },
    {
     "name": "stderr",
     "output_type": "stream",
     "text": [
      "  4%|▍         | 315/7853 [00:07<03:00, 41.76it/s]"
     ]
    },
    {
     "name": "stdout",
     "output_type": "stream",
     "text": [
      "Downloaded data for 603151.SH\n",
      "Downloaded data for 688221.SH\n",
      "Downloaded data for 601998.SH\n",
      "Downloaded data for 603125.SH\n",
      "Downloaded data for 605268.SH\n",
      "Downloaded data for 603813.SH\n",
      "Downloaded data for 600235.SH\n",
      "Downloaded data for 603867.SH\n",
      "Downloaded data for 600241.SH\n"
     ]
    },
    {
     "name": "stderr",
     "output_type": "stream",
     "text": [
      "  4%|▍         | 325/7853 [00:07<02:53, 43.41it/s]"
     ]
    },
    {
     "name": "stdout",
     "output_type": "stream",
     "text": [
      "Downloaded data for 603040.SH\n",
      "Downloaded data for 688330.SH\n",
      "Downloaded data for 603976.SH\n",
      "Downloaded data for 600350.SH\n",
      "Downloaded data for 603800.SH\n",
      "Downloaded data for 600226.SH\n",
      "Downloaded data for 600649.SH\n",
      "Downloaded data for 600252.SH\n",
      "Downloaded data for 601963.SH\n"
     ]
    },
    {
     "name": "stderr",
     "output_type": "stream",
     "text": [
      "  4%|▍         | 335/7853 [00:07<02:48, 44.70it/s]"
     ]
    },
    {
     "name": "stdout",
     "output_type": "stream",
     "text": [
      "Downloaded data for 688246.SH\n",
      "Downloaded data for 603559.SH\n",
      "Downloaded data for 688232.SH\n",
      "Downloaded data for 688629.SH\n",
      "Downloaded data for 601021.SH\n",
      "Downloaded data for 603136.SH\n",
      "Downloaded data for 600056.SH\n",
      "Downloaded data for 600022.SH\n",
      "Downloaded data for 600439.SH\n"
     ]
    },
    {
     "name": "stderr",
     "output_type": "stream",
     "text": [
      "  4%|▍         | 340/7853 [00:08<03:00, 41.67it/s]"
     ]
    },
    {
     "name": "stdout",
     "output_type": "stream",
     "text": [
      "Downloaded data for 600988.SH\n",
      "Downloaded data for 688036.SH\n",
      "Downloaded data for 601225.SH\n",
      "Downloaded data for 603729.SH\n",
      "Downloaded data for 603332.SH\n",
      "Downloaded data for 688459.SH\n",
      "Downloaded data for 600960.SH\n"
     ]
    },
    {
     "name": "stderr",
     "output_type": "stream",
     "text": [
      "  4%|▍         | 350/7853 [00:08<02:51, 43.84it/s]"
     ]
    },
    {
     "name": "stdout",
     "output_type": "stream",
     "text": [
      "Downloaded data for 603230.SH\n",
      "Downloaded data for 600816.SH\n",
      "Downloaded data for 605566.SH\n",
      "Downloaded data for 600862.SH\n",
      "Downloaded data for 600120.SH\n",
      "Downloaded data for 688288.SH\n",
      "Downloaded data for 603826.SH\n",
      "Downloaded data for 688693.SH\n",
      "Downloaded data for 600200.SH\n"
     ]
    },
    {
     "name": "stderr",
     "output_type": "stream",
     "text": [
      "                                                  \r"
     ]
    },
    {
     "name": "stdout",
     "output_type": "stream",
     "text": [
      "Downloaded data for 688260.SH\n",
      "Downloaded data for 601007.SH\n",
      "Downloaded data for 603110.SH\n",
      "Downloaded data for 603066.SH\n",
      "Downloaded data for 688779.SH\n",
      "Downloaded data for 688362.SH\n",
      "Downloaded data for 603012.SH\n",
      "Downloaded data for 600785.SH\n"
     ]
    },
    {
     "name": "stderr",
     "output_type": "stream",
     "text": [
      "  5%|▍         | 365/7853 [00:08<02:46, 44.91it/s]"
     ]
    },
    {
     "name": "stdout",
     "output_type": "stream",
     "text": [
      "Downloaded data for 688316.SH\n",
      "Downloaded data for 601199.SH\n",
      "Downloaded data for 600302.SH\n",
      "Downloaded data for 600719.SH\n",
      "Downloaded data for 603950.SH\n",
      "Downloaded data for 600376.SH\n",
      "Downloaded data for 603216.SH\n",
      "Downloaded data for 600830.SH\n",
      "Downloaded data for 600581.SH\n"
     ]
    },
    {
     "name": "stderr",
     "output_type": "stream",
     "text": [
      "  5%|▍         | 375/7853 [00:08<02:48, 44.31it/s]"
     ]
    },
    {
     "name": "stdout",
     "output_type": "stream",
     "text": [
      "Downloaded data for 688112.SH\n",
      "Downloaded data for 688509.SH\n",
      "Downloaded data for 603679.SH\n",
      "Downloaded data for 600844.SH\n",
      "Downloaded data for 601375.SH\n",
      "Downloaded data for 688166.SH\n",
      "Downloaded data for 600569.SH\n",
      "Downloaded data for 600172.SH\n"
     ]
    },
    {
     "name": "stderr",
     "output_type": "stream",
     "text": [
      "  5%|▍         | 380/7853 [00:09<02:46, 44.77it/s]"
     ]
    },
    {
     "name": "stdout",
     "output_type": "stream",
     "text": [
      "Downloaded data for 688595.SH\n",
      "Downloaded data for 600106.SH\n",
      "Downloaded data for 600070.SH\n",
      "Downloaded data for 600004.SH\n",
      "Downloaded data for 603388.SH\n",
      "Downloaded data for 600098.SH\n",
      "Downloaded data for 600483.SH\n",
      "Downloaded data for 601618.SH\n"
     ]
    },
    {
     "name": "stderr",
     "output_type": "stream",
     "text": [
      "  5%|▍         | 390/7853 [00:09<02:53, 43.11it/s]"
     ]
    },
    {
     "name": "stdout",
     "output_type": "stream",
     "text": [
      "Downloaded data for 688010.SH\n",
      "Downloaded data for 603360.SH\n",
      "Downloaded data for 600161.SH\n",
      "Downloaded data for 603682.SH\n",
      "Downloaded data for 603299.SH\n",
      "Downloaded data for 688586.SH\n",
      "Downloaded data for 600115.SH\n",
      "Downloaded data for 600189.SH\n"
     ]
    },
    {
     "name": "stderr",
     "output_type": "stream",
     "text": [
      "  5%|▌         | 395/7853 [00:09<03:04, 40.49it/s]"
     ]
    },
    {
     "name": "stdout",
     "output_type": "stream",
     "text": [
      "Downloaded data for 600592.SH\n",
      "Downloaded data for 688101.SH\n",
      "Downloaded data for 600857.SH\n",
      "Downloaded data for 601366.SH\n",
      "Downloaded data for 688175.SH\n",
      "Downloaded data for 600490.SH\n",
      "Downloaded data for 688003.SH\n"
     ]
    },
    {
     "name": "stderr",
     "output_type": "stream",
     "text": [
      "  5%|▌         | 405/7853 [00:09<03:05, 40.07it/s]"
     ]
    },
    {
     "name": "stdout",
     "output_type": "stream",
     "text": [
      "Downloaded data for 688418.SH\n",
      "Downloaded data for 603307.SH\n",
      "Downloaded data for 688077.SH\n",
      "Downloaded data for 603373.SH\n",
      "Downloaded data for 603768.SH\n",
      "Downloaded data for 600955.SH\n",
      "Downloaded data for 600478.SH\n",
      "Downloaded data for 600063.SH\n"
     ]
    },
    {
     "name": "stderr",
     "output_type": "stream",
     "text": [
      "  5%|▌         | 415/7853 [00:09<02:59, 41.43it/s]"
     ]
    },
    {
     "name": "stdout",
     "output_type": "stream",
     "text": [
      "Downloaded data for 688484.SH\n",
      "Downloaded data for 600017.SH\n",
      "Downloaded data for 688668.SH\n",
      "Downloaded data for 688273.SH\n",
      "Downloaded data for 603177.SH\n",
      "Downloaded data for 600694.SH\n",
      "Downloaded data for 688207.SH\n",
      "Downloaded data for 603518.SH\n"
     ]
    },
    {
     "name": "stderr",
     "output_type": "stream",
     "text": [
      "  5%|▌         | 420/7853 [00:10<02:54, 42.67it/s]"
     ]
    },
    {
     "name": "stdout",
     "output_type": "stream",
     "text": [
      "Downloaded data for 603103.SH\n",
      "Downloaded data for 688680.SH\n",
      "Downloaded data for 601088.SH\n",
      "Downloaded data for 600213.SH\n",
      "Downloaded data for 600608.SH\n",
      "Downloaded data for 600267.SH\n",
      "Downloaded data for 601956.SH\n",
      "Downloaded data for 603486.SH\n"
     ]
    },
    {
     "name": "stderr",
     "output_type": "stream",
     "text": [
      "  5%|▌         | 430/7853 [00:10<02:53, 42.75it/s]"
     ]
    },
    {
     "name": "stdout",
     "output_type": "stream",
     "text": [
      "Downloaded data for 688399.SH\n",
      "Downloaded data for 603937.SH\n",
      "Downloaded data for 600365.SH\n",
      "Downloaded data for 603075.SH\n",
      "Downloaded data for 605338.SH\n",
      "Downloaded data for 601162.SH\n",
      "Downloaded data for 601579.SH\n",
      "Downloaded data for 688371.SH\n"
     ]
    },
    {
     "name": "stderr",
     "output_type": "stream",
     "text": [
      "  6%|▌         | 440/7853 [00:10<02:44, 45.01it/s]"
     ]
    },
    {
     "name": "stdout",
     "output_type": "stream",
     "text": [
      "Downloaded data for 603001.SH\n",
      "Downloaded data for 600796.SH\n",
      "Downloaded data for 688305.SH\n",
      "Downloaded data for 601116.SH\n",
      "Downloaded data for 605117.SH\n",
      "Downloaded data for 600808.SH\n",
      "Downloaded data for 601339.SH\n",
      "Downloaded data for 688531.SH\n",
      "Downloaded data for 600894.SH\n"
     ]
    },
    {
     "name": "stderr",
     "output_type": "stream",
     "text": [
      "  6%|▌         | 445/7853 [00:10<02:47, 44.31it/s]"
     ]
    },
    {
     "name": "stdout",
     "output_type": "stream",
     "text": [
      "Downloaded data for 600525.SH\n",
      "Downloaded data for 600551.SH\n",
      "Downloaded data for 600996.SH\n",
      "Downloaded data for 600048.SH\n",
      "Downloaded data for 605089.SH\n",
      "Downloaded data for 603358.SH\n",
      "Downloaded data for 688433.SH\n",
      "Downloaded data for 688028.SH\n",
      "Downloaded data for 603737.SH\n"
     ]
    },
    {
     "name": "stderr",
     "output_type": "stream",
     "text": [
      "  6%|▌         | 455/7853 [00:10<02:58, 41.37it/s]"
     ]
    },
    {
     "name": "stdout",
     "output_type": "stream",
     "text": [
      "Downloaded data for 600657.SH\n",
      "Downloaded data for 600623.SH\n",
      "Downloaded data for 600238.SH\n",
      "Downloaded data for 603882.SH\n",
      "Downloaded data for 601995.SH\n",
      "Downloaded data for 603128.SH\n",
      "Downloaded data for 603533.SH\n",
      "Downloaded data for 688258.SH\n"
     ]
    },
    {
     "name": "stderr",
     "output_type": "stream",
     "text": [
      "  6%|▌         | 465/7853 [00:11<02:52, 42.92it/s]"
     ]
    },
    {
     "name": "stdout",
     "output_type": "stream",
     "text": [
      "Downloaded data for 603980.SH\n",
      "Downloaded data for 603968.SH\n",
      "Downloaded data for 600755.SH\n",
      "Downloaded data for 600721.SH\n",
      "Downloaded data for 603520.SH\n",
      "Downloaded data for 601058.SH\n",
      "Downloaded data for 603879.SH\n",
      "Downloaded data for 600644.SH\n",
      "Downloaded data for 600630.SH\n"
     ]
    },
    {
     "name": "stderr",
     "output_type": "stream",
     "text": [
      "  6%|▌         | 470/7853 [00:11<02:49, 43.54it/s]"
     ]
    },
    {
     "name": "stdout",
     "output_type": "stream",
     "text": [
      "Downloaded data for 600746.SH\n",
      "Downloaded data for 601818.SH\n",
      "Downloaded data for 600732.SH\n",
      "Downloaded data for 600329.SH\n",
      "Downloaded data for 603039.SH\n",
      "Downloaded data for 603993.SH\n",
      "Downloaded data for 603456.SH\n",
      "Downloaded data for 605300.SH\n"
     ]
    },
    {
     "name": "stderr",
     "output_type": "stream",
     "text": [
      "  6%|▌         | 480/7853 [00:11<03:05, 39.66it/s]"
     ]
    },
    {
     "name": "stdout",
     "output_type": "stream",
     "text": [
      "Downloaded data for 688349.SH\n",
      "Downloaded data for 600887.SH\n",
      "Downloaded data for 600536.SH\n",
      "Downloaded data for 605198.SH\n",
      "Downloaded data for 600159.SH\n",
      "Downloaded data for 688556.SH\n",
      "Downloaded data for 603626.SH\n",
      "Downloaded data for 688522.SH\n"
     ]
    },
    {
     "name": "stderr",
     "output_type": "stream",
     "text": [
      "  6%|▌         | 490/7853 [00:11<02:55, 42.04it/s]"
     ]
    },
    {
     "name": "stdout",
     "output_type": "stream",
     "text": [
      "Downloaded data for 688139.SH\n",
      "Downloaded data for 605006.SH\n",
      "Downloaded data for 601228.SH\n",
      "Downloaded data for 688420.SH\n",
      "Downloaded data for 601633.SH\n",
      "Downloaded data for 600919.SH\n",
      "Downloaded data for 600985.SH\n",
      "Downloaded data for 600760.SH\n",
      "Downloaded data for 603083.SH\n"
     ]
    },
    {
     "name": "stderr",
     "output_type": "stream",
     "text": [
      "  6%|▋         | 500/7853 [00:11<02:46, 44.19it/s]"
     ]
    },
    {
     "name": "stdout",
     "output_type": "stream",
     "text": [
      "Downloaded data for 603929.SH\n",
      "Downloaded data for 688387.SH\n",
      "Downloaded data for 600714.SH\n",
      "Downloaded data for 688700.SH\n",
      "Downloaded data for 601108.SH\n",
      "Downloaded data for 601567.SH\n",
      "Downloaded data for 688602.SH\n",
      "Downloaded data for 688219.SH\n",
      "Downloaded data for 603506.SH\n"
     ]
    },
    {
     "name": "stderr",
     "output_type": "stream",
     "text": [
      "  6%|▋         | 505/7853 [00:12<02:48, 43.63it/s]"
     ]
    },
    {
     "name": "stdout",
     "output_type": "stream",
     "text": [
      "Downloaded data for 688676.SH\n",
      "Downloaded data for 603169.SH\n",
      "Downloaded data for 600279.SH\n",
      "Downloaded data for 600662.SH\n",
      "Downloaded data for 601096.SH\n",
      "Downloaded data for 688285.SH\n",
      "Downloaded data for 600616.SH\n",
      "Downloaded data for 603181.SH\n"
     ]
    },
    {
     "name": "stderr",
     "output_type": "stream",
     "text": [
      "  7%|▋         | 515/7853 [00:12<02:56, 41.66it/s]"
     ]
    },
    {
     "name": "stdout",
     "output_type": "stream",
     "text": [
      "Downloaded data for 688069.SH\n",
      "Downloaded data for 688472.SH\n",
      "Downloaded data for 603776.SH\n",
      "Downloaded data for 605020.SH\n",
      "Downloaded data for 600095.SH\n",
      "Downloaded data for 601615.SH\n",
      "Downloaded data for 603319.SH\n"
     ]
    },
    {
     "name": "stderr",
     "output_type": "stream",
     "text": [
      "  7%|▋         | 520/7853 [00:12<02:54, 41.98it/s]"
     ]
    },
    {
     "name": "stdout",
     "output_type": "stream",
     "text": [
      "Downloaded data for 601689.SH\n",
      "Downloaded data for 688081.SH\n",
      "Downloaded data for 600009.SH\n",
      "Downloaded data for 603385.SH\n",
      "Downloaded data for 601390.SH\n",
      "Downloaded data for 688598.SH\n",
      "Downloaded data for 688183.SH\n",
      "Downloaded data for 600510.SH\n",
      "Downloaded data for 605122.SH\n"
     ]
    },
    {
     "name": "stderr",
     "output_type": "stream",
     "text": [
      "  7%|▋         | 530/7853 [00:12<02:55, 41.70it/s]"
     ]
    },
    {
     "name": "stdout",
     "output_type": "stream",
     "text": [
      "Downloaded data for 688570.SH\n",
      "Downloaded data for 603600.SH\n",
      "Downloaded data for 600197.SH\n",
      "Downloaded data for 601717.SH\n",
      "Downloaded data for 688489.SH\n",
      "Downloaded data for 688092.SH\n",
      "Downloaded data for 603396.SH\n",
      "Downloaded data for 600475.SH\n"
     ]
    },
    {
     "name": "stderr",
     "output_type": "stream",
     "text": [
      "  7%|▋         | 540/7853 [00:12<02:46, 43.97it/s]"
     ]
    },
    {
     "name": "stdout",
     "output_type": "stream",
     "text": [
      "Downloaded data for 605033.SH\n",
      "Downloaded data for 600958.SH\n",
      "Downloaded data for 601606.SH\n",
      "Downloaded data for 603711.SH\n",
      "Downloaded data for 603667.SH\n",
      "Downloaded data for 688178.SH\n",
      "Downloaded data for 688563.SH\n",
      "Downloaded data for 603208.SH\n",
      "Downloaded data for 603613.SH\n"
     ]
    },
    {
     "name": "stderr",
     "output_type": "stream",
     "text": [
      "  7%|▋         | 550/7853 [00:13<02:39, 45.65it/s]"
     ]
    },
    {
     "name": "stdout",
     "output_type": "stream",
     "text": [
      "Downloaded data for 600184.SH\n",
      "Downloaded data for 688517.SH\n",
      "Downloaded data for 601798.SH\n",
      "Downloaded data for 688190.SH\n",
      "Downloaded data for 600503.SH\n",
      "Downloaded data for 600118.SH\n",
      "Downloaded data for 600577.SH\n",
      "Downloaded data for 600380.SH\n",
      "Downloaded data for 688308.SH\n"
     ]
    },
    {
     "name": "stderr",
     "output_type": "stream",
     "text": [
      "  7%|▋         | 555/7853 [00:13<02:41, 45.10it/s]"
     ]
    },
    {
     "name": "stdout",
     "output_type": "stream",
     "text": [
      "Downloaded data for 601500.SH\n",
      "Downloaded data for 603078.SH\n",
      "Downloaded data for 688767.SH\n",
      "Downloaded data for 600368.SH\n",
      "Downloaded data for 600773.SH\n",
      "Downloaded data for 603090.SH\n",
      "Downloaded data for 601187.SH\n",
      "Downloaded data for 600707.SH\n",
      "Downloaded data for 600671.SH\n"
     ]
    },
    {
     "name": "stderr",
     "output_type": "stream",
     "text": [
      "  7%|▋         | 565/7853 [00:13<02:44, 44.33it/s]"
     ]
    },
    {
     "name": "stdout",
     "output_type": "stream",
     "text": [
      "Downloaded data for 603838.SH\n",
      "Downloaded data for 688296.SH\n",
      "Downloaded data for 600605.SH\n",
      "Downloaded data for 603192.SH\n",
      "Downloaded data for 603589.SH\n",
      "Downloaded data for 600699.SH\n",
      "Downloaded data for 600282.SH\n",
      "Downloaded data for 688611.SH\n",
      "Downloaded data for 601019.SH\n"
     ]
    },
    {
     "name": "stderr",
     "output_type": "stream",
     "text": [
      "  7%|▋         | 575/7853 [00:13<02:42, 44.91it/s]"
     ]
    },
    {
     "name": "stdout",
     "output_type": "stream",
     "text": [
      "Downloaded data for 603515.SH\n",
      "Downloaded data for 688665.SH\n",
      "Downloaded data for 600467.SH\n",
      "Downloaded data for 600008.SH\n",
      "Downloaded data for 601688.SH\n",
      "Downloaded data for 688080.SH\n",
      "Downloaded data for 600094.SH\n",
      "Downloaded data for 605055.SH\n",
      "Downloaded data for 603703.SH\n"
     ]
    },
    {
     "name": "stderr",
     "output_type": "stream",
     "text": [
      "                                                  \r"
     ]
    },
    {
     "name": "stdout",
     "output_type": "stream",
     "text": [
      "Downloaded data for 603318.SH\n",
      "Downloaded data for 688068.SH\n",
      "Downloaded data for 603777.SH\n",
      "Downloaded data for 603601.SH\n",
      "Downloaded data for 688505.SH\n",
      "Downloaded data for 600196.SH\n",
      "Downloaded data for 605123.SH\n",
      "Downloaded data for 600848.SH\n"
     ]
    },
    {
     "name": "stderr",
     "output_type": "stream",
     "text": [
      "  8%|▊         | 590/7853 [00:13<02:40, 45.15it/s]"
     ]
    },
    {
     "name": "stdout",
     "output_type": "stream",
     "text": [
      "Downloaded data for 688571.SH\n",
      "Downloaded data for 603286.SH\n",
      "Downloaded data for 600511.SH\n",
      "Downloaded data for 688182.SH\n",
      "Downloaded data for 688599.SH\n",
      "Downloaded data for 601566.SH\n",
      "Downloaded data for 601512.SH\n",
      "Downloaded data for 688701.SH\n",
      "Downloaded data for 600392.SH\n"
     ]
    },
    {
     "name": "stderr",
     "output_type": "stream",
     "text": [
      "  8%|▊         | 600/7853 [00:14<02:40, 45.32it/s]"
     ]
    },
    {
     "name": "stdout",
     "output_type": "stream",
     "text": [
      "Downloaded data for 600789.SH\n",
      "Downloaded data for 603499.SH\n",
      "Downloaded data for 603082.SH\n",
      "Downloaded data for 600715.SH\n",
      "Downloaded data for 688386.SH\n",
      "Downloaded data for 603928.SH\n",
      "Downloaded data for 600761.SH\n",
      "Downloaded data for 600617.SH\n",
      "Downloaded data for 603180.SH\n"
     ]
    },
    {
     "name": "stderr",
     "output_type": "stream",
     "text": [
      "  8%|▊         | 610/7853 [00:14<02:40, 45.19it/s]"
     ]
    },
    {
     "name": "stdout",
     "output_type": "stream",
     "text": [
      "Downloaded data for 600663.SH\n",
      "Downloaded data for 600278.SH\n",
      "Downloaded data for 601949.SH\n",
      "Downloaded data for 688677.SH\n",
      "Downloaded data for 603168.SH\n",
      "Downloaded data for 688218.SH\n",
      "Downloaded data for 688603.SH\n",
      "Downloaded data for 603507.SH\n",
      "Downloaded data for 600706.SH\n"
     ]
    },
    {
     "name": "stderr",
     "output_type": "stream",
     "text": [
      "  8%|▊         | 620/7853 [00:14<02:47, 43.24it/s]"
     ]
    },
    {
     "name": "stdout",
     "output_type": "stream",
     "text": [
      "Downloaded data for 688395.SH\n",
      "Downloaded data for 601186.SH\n",
      "Downloaded data for 601858.SH\n",
      "Downloaded data for 600369.SH\n",
      "Downloaded data for 603079.SH\n",
      "Downloaded data for 688766.SH\n",
      "Downloaded data for 603416.SH\n",
      "Downloaded data for 688309.SH\n"
     ]
    },
    {
     "name": "stderr",
     "output_type": "stream",
     "text": [
      "  8%|▊         | 625/7853 [00:14<02:42, 44.59it/s]"
     ]
    },
    {
     "name": "stdout",
     "output_type": "stream",
     "text": [
      "Downloaded data for 600381.SH\n",
      "Downloaded data for 688610.SH\n",
      "Downloaded data for 601018.SH\n",
      "Downloaded data for 600283.SH\n",
      "Downloaded data for 600698.SH\n",
      "Downloaded data for 600604.SH\n",
      "Downloaded data for 688297.SH\n",
      "Downloaded data for 603839.SH\n",
      "Downloaded data for 603588.SH\n"
     ]
    },
    {
     "name": "stderr",
     "output_type": "stream",
     "text": [
      "  8%|▊         | 635/7853 [00:14<02:35, 46.56it/s]"
     ]
    },
    {
     "name": "stdout",
     "output_type": "stream",
     "text": [
      "Downloaded data for 603193.SH\n",
      "Downloaded data for 601607.SH\n",
      "Downloaded data for 600959.SH\n",
      "Downloaded data for 600400.SH\n",
      "Downloaded data for 688093.SH\n",
      "Downloaded data for 688488.SH\n",
      "Downloaded data for 600576.SH\n",
      "Downloaded data for 600119.SH\n",
      "Downloaded data for 600502.SH\n"
     ]
    },
    {
     "name": "stderr",
     "output_type": "stream",
     "text": [
      "  8%|▊         | 645/7853 [00:15<02:42, 44.33it/s]"
     ]
    },
    {
     "name": "stdout",
     "output_type": "stream",
     "text": [
      "Downloaded data for 601799.SH\n",
      "Downloaded data for 688191.SH\n",
      "Downloaded data for 603612.SH\n",
      "Downloaded data for 603209.SH\n",
      "Downloaded data for 688516.SH\n",
      "Downloaded data for 600185.SH\n",
      "Downloaded data for 603666.SH\n",
      "Downloaded data for 688562.SH\n"
     ]
    },
    {
     "name": "stderr",
     "output_type": "stream",
     "text": [
      "  8%|▊         | 650/7853 [00:15<02:43, 43.95it/s]"
     ]
    },
    {
     "name": "stdout",
     "output_type": "stream",
     "text": [
      "Downloaded data for 688179.SH\n",
      "Downloaded data for 688259.SH\n",
      "Downloaded data for 688636.SH\n",
      "Downloaded data for 603883.SH\n",
      "Downloaded data for 603129.SH\n",
      "Downloaded data for 600239.SH\n",
      "Downloaded data for 600622.SH\n",
      "Downloaded data for 601908.SH\n"
     ]
    },
    {
     "name": "stderr",
     "output_type": "stream",
     "text": [
      "  8%|▊         | 660/7853 [00:15<02:50, 42.12it/s]"
     ]
    },
    {
     "name": "stdout",
     "output_type": "stream",
     "text": [
      "Downloaded data for 600720.SH\n",
      "Downloaded data for 600754.SH\n",
      "Downloaded data for 603969.SH\n",
      "Downloaded data for 603444.SH\n",
      "Downloaded data for 605366.SH\n",
      "Downloaded data for 600550.SH\n",
      "Downloaded data for 600895.SH\n",
      "Downloaded data for 600809.SH\n"
     ]
    },
    {
     "name": "stderr",
     "output_type": "stream",
     "text": [
      "  9%|▊         | 670/7853 [00:15<02:47, 42.91it/s]"
     ]
    },
    {
     "name": "stdout",
     "output_type": "stream",
     "text": [
      "Downloaded data for 605162.SH\n",
      "Downloaded data for 688530.SH\n",
      "Downloaded data for 605116.SH\n",
      "Downloaded data for 688029.SH\n",
      "Downloaded data for 688432.SH\n",
      "Downloaded data for 605060.SH\n",
      "Downloaded data for 603359.SH\n",
      "Downloaded data for 600452.SH\n",
      "Downloaded data for 605088.SH\n"
     ]
    },
    {
     "name": "stderr",
     "output_type": "stream",
     "text": [
      "                                                  "
     ]
    },
    {
     "name": "stdout",
     "output_type": "stream",
     "text": [
      "Downloaded data for 600426.SH\n",
      "Downloaded data for 600997.SH\n",
      "Downloaded data for 688138.SH\n",
      "Downloaded data for 688523.SH\n",
      "Downloaded data for 688557.SH\n",
      "Downloaded data for 605199.SH\n",
      "Downloaded data for 600543.SH\n",
      "Downloaded data for 600158.SH\n"
     ]
    },
    {
     "name": "stderr",
     "output_type": "stream",
     "text": [
      "  9%|▊         | 685/7853 [00:16<02:43, 43.89it/s]"
     ]
    },
    {
     "name": "stdout",
     "output_type": "stream",
     "text": [
      "Downloaded data for 600886.SH\n",
      "Downloaded data for 600537.SH\n",
      "Downloaded data for 600435.SH\n",
      "Downloaded data for 600984.SH\n",
      "Downloaded data for 601229.SH\n",
      "Downloaded data for 600918.SH\n",
      "Downloaded data for 603725.SH\n",
      "Downloaded data for 688455.SH\n",
      "Downloaded data for 605007.SH\n"
     ]
    },
    {
     "name": "stderr",
     "output_type": "stream",
     "text": [
      "  9%|▉         | 695/7853 [00:16<02:45, 43.37it/s]"
     ]
    },
    {
     "name": "stdout",
     "output_type": "stream",
     "text": [
      "Downloaded data for 600645.SH\n",
      "Downloaded data for 603878.SH\n",
      "Downloaded data for 601059.SH\n",
      "Downloaded data for 688651.SH\n",
      "Downloaded data for 688625.SH\n",
      "Downloaded data for 603890.SH\n",
      "Downloaded data for 605277.SH\n",
      "Downloaded data for 688348.SH\n"
     ]
    },
    {
     "name": "stderr",
     "output_type": "stream",
     "text": [
      "  9%|▉         | 705/7853 [00:16<02:42, 43.86it/s]"
     ]
    },
    {
     "name": "stdout",
     "output_type": "stream",
     "text": [
      "Downloaded data for 603038.SH\n",
      "Downloaded data for 603992.SH\n",
      "Downloaded data for 600328.SH\n",
      "Downloaded data for 600733.SH\n",
      "Downloaded data for 603690.SH\n",
      "Downloaded data for 600107.SH\n",
      "Downloaded data for 600173.SH\n",
      "Downloaded data for 600568.SH\n",
      "Downloaded data for 600845.SH\n"
     ]
    },
    {
     "name": "stderr",
     "output_type": "stream",
     "text": [
      "  9%|▉         | 710/7853 [00:16<02:47, 42.63it/s]"
     ]
    },
    {
     "name": "stdout",
     "output_type": "stream",
     "text": [
      "Downloaded data for 603678.SH\n",
      "Downloaded data for 688167.SH\n",
      "Downloaded data for 600831.SH\n",
      "Downloaded data for 603217.SH\n",
      "Downloaded data for 688508.SH\n",
      "Downloaded data for 688113.SH\n",
      "Downloaded data for 600580.SH\n",
      "Downloaded data for 688065.SH\n"
     ]
    },
    {
     "name": "stderr",
     "output_type": "stream",
     "text": [
      "  9%|▉         | 720/7853 [00:16<02:40, 44.50it/s]"
     ]
    },
    {
     "name": "stdout",
     "output_type": "stream",
     "text": [
      "Downloaded data for 601619.SH\n",
      "Downloaded data for 688011.SH\n",
      "Downloaded data for 600482.SH\n",
      "Downloaded data for 600099.SH\n",
      "Downloaded data for 600933.SH\n",
      "Downloaded data for 605058.SH\n",
      "Downloaded data for 603315.SH\n",
      "Downloaded data for 688496.SH\n",
      "Downloaded data for 603389.SH\n"
     ]
    },
    {
     "name": "stderr",
     "output_type": "stream",
     "text": [
      "  9%|▉         | 725/7853 [00:17<02:38, 44.91it/s]"
     ]
    },
    {
     "name": "stdout",
     "output_type": "stream",
     "text": [
      "Downloaded data for 600071.SH\n",
      "Downloaded data for 601006.SH\n",
      "Downloaded data for 688215.SH\n",
      "Downloaded data for 600686.SH\n",
      "Downloaded data for 603111.SH\n",
      "Downloaded data for 688261.SH\n",
      "Downloaded data for 605228.SH\n",
      "Downloaded data for 603165.SH\n"
     ]
    },
    {
     "name": "stderr",
     "output_type": "stream",
     "text": [
      "  9%|▉         | 735/7853 [00:17<02:55, 40.51it/s]"
     ]
    },
    {
     "name": "stdout",
     "output_type": "stream",
     "text": [
      "Downloaded data for 600201.SH\n",
      "Downloaded data for 688692.SH\n",
      "Downloaded data for 688289.SH\n",
      "Downloaded data for 603596.SH\n",
      "Downloaded data for 600377.SH\n",
      "Downloaded data for 600718.SH\n",
      "Downloaded data for 600303.SH\n"
     ]
    },
    {
     "name": "stderr",
     "output_type": "stream",
     "text": [
      "                                                  "
     ]
    },
    {
     "name": "stdout",
     "output_type": "stream",
     "text": [
      "Downloaded data for 601198.SH\n",
      "Downloaded data for 603013.SH\n",
      "Downloaded data for 603408.SH\n",
      "Downloaded data for 688317.SH\n",
      "Downloaded data for 600784.SH\n",
      "Downloaded data for 603067.SH\n",
      "Downloaded data for 688363.SH\n",
      "Downloaded data for 688778.SH\n"
     ]
    },
    {
     "name": "stderr",
     "output_type": "stream",
     "text": [
      " 10%|▉         | 750/7853 [00:17<02:48, 42.04it/s]"
     ]
    },
    {
     "name": "stdout",
     "output_type": "stream",
     "text": [
      "Downloaded data for 600266.SH\n",
      "Downloaded data for 600609.SH\n",
      "Downloaded data for 600212.SH\n",
      "Downloaded data for 688681.SH\n",
      "Downloaded data for 601089.SH\n",
      "Downloaded data for 603585.SH\n",
      "Downloaded data for 601015.SH\n",
      "Downloaded data for 688206.SH\n",
      "Downloaded data for 603102.SH\n"
     ]
    },
    {
     "name": "stderr",
     "output_type": "stream",
     "text": [
      " 10%|▉         | 760/7853 [00:17<02:42, 43.60it/s]"
     ]
    },
    {
     "name": "stdout",
     "output_type": "stream",
     "text": [
      "Downloaded data for 603519.SH\n",
      "Downloaded data for 688272.SH\n",
      "Downloaded data for 601061.SH\n",
      "Downloaded data for 688669.SH\n",
      "Downloaded data for 603176.SH\n",
      "Downloaded data for 603000.SH\n",
      "Downloaded data for 601117.SH\n",
      "Downloaded data for 600797.SH\n"
     ]
    },
    {
     "name": "stderr",
     "output_type": "stream",
     "text": [
      " 10%|▉         | 770/7853 [00:18<02:46, 42.46it/s]"
     ]
    },
    {
     "name": "stdout",
     "output_type": "stream",
     "text": [
      "Downloaded data for 605339.SH\n",
      "Downloaded data for 688370.SH\n",
      "Downloaded data for 601163.SH\n",
      "Downloaded data for 600310.SH\n",
      "Downloaded data for 603936.SH\n",
      "Downloaded data for 688398.SH\n",
      "Downloaded data for 603270.SH\n",
      "Downloaded data for 600822.SH\n"
     ]
    },
    {
     "name": "stderr",
     "output_type": "stream",
     "text": [
      " 10%|▉         | 775/7853 [00:18<02:44, 43.09it/s]"
     ]
    },
    {
     "name": "stdout",
     "output_type": "stream",
     "text": [
      "Downloaded data for 688100.SH\n",
      "Downloaded data for 600593.SH\n",
      "Downloaded data for 600188.SH\n",
      "Downloaded data for 603298.SH\n",
      "Downloaded data for 603683.SH\n",
      "Downloaded data for 600114.SH\n",
      "Downloaded data for 600160.SH\n",
      "Downloaded data for 600016.SH\n"
     ]
    },
    {
     "name": "stderr",
     "output_type": "stream",
     "text": [
      " 10%|▉         | 785/7853 [00:18<02:41, 43.82it/s]"
     ]
    },
    {
     "name": "stdout",
     "output_type": "stream",
     "text": [
      "Downloaded data for 688485.SH\n",
      "Downloaded data for 601696.SH\n",
      "Downloaded data for 600062.SH\n",
      "Downloaded data for 600479.SH\n",
      "Downloaded data for 688076.SH\n",
      "Downloaded data for 601211.SH\n",
      "Downloaded data for 688419.SH\n",
      "Downloaded data for 688002.SH\n",
      "Downloaded data for 600491.SH\n"
     ]
    },
    {
     "name": "stderr",
     "output_type": "stream",
     "text": [
      " 10%|█         | 795/7853 [00:18<02:44, 42.91it/s]"
     ]
    },
    {
     "name": "stdout",
     "output_type": "stream",
     "text": [
      "Downloaded data for 603306.SH\n",
      "Downloaded data for 603026.SH\n",
      "Downloaded data for 688739.SH\n",
      "Downloaded data for 688322.SH\n",
      "Downloaded data for 603052.SH\n",
      "Downloaded data for 688356.SH\n",
      "Downloaded data for 600759.SH\n",
      "Downloaded data for 600336.SH\n"
     ]
    },
    {
     "name": "stderr",
     "output_type": "stream",
     "text": [
      " 10%|█         | 801/7853 [00:18<02:45, 42.63it/s]\n"
     ]
    },
    {
     "name": "stdout",
     "output_type": "stream",
     "text": [
      "Downloaded data for 603866.SH\n",
      "Downloaded data for 600234.SH\n",
      "Downloaded data for 601033.SH\n",
      "Downloaded data for 688220.SH\n",
      "Downloaded data for 601999.SH\n",
      "Downloaded data for 603150.SH\n"
     ]
    },
    {
     "ename": "KeyboardInterrupt",
     "evalue": "",
     "output_type": "error",
     "traceback": [
      "\u001b[1;31m---------------------------------------------------------------------------\u001b[0m",
      "\u001b[1;31mKeyboardInterrupt\u001b[0m                         Traceback (most recent call last)",
      "Cell \u001b[1;32mIn[8], line 7\u001b[0m\n\u001b[0;32m      5\u001b[0m end_time \u001b[38;5;241m=\u001b[39m today\n\u001b[0;32m      6\u001b[0m period \u001b[38;5;241m=\u001b[39m \u001b[38;5;124m\"\u001b[39m\u001b[38;5;124m1m\u001b[39m\u001b[38;5;124m\"\u001b[39m\n\u001b[1;32m----> 7\u001b[0m \u001b[43mqmt_data\u001b[49m\u001b[38;5;241;43m.\u001b[39;49m\u001b[43mdownload_data\u001b[49m\u001b[43m(\u001b[49m\n\u001b[0;32m      8\u001b[0m \u001b[43m    \u001b[49m\u001b[43mstart_time\u001b[49m\u001b[38;5;241;43m=\u001b[39;49m\u001b[43mstart_time\u001b[49m\u001b[43m,\u001b[49m\u001b[43m \u001b[49m\u001b[43mend_time\u001b[49m\u001b[38;5;241;43m=\u001b[39;49m\u001b[43mend_time\u001b[49m\u001b[43m,\u001b[49m\u001b[43m \u001b[49m\u001b[43mperiod\u001b[49m\u001b[38;5;241;43m=\u001b[39;49m\u001b[43mperiod\u001b[49m\u001b[43m,\u001b[49m\u001b[43m \u001b[49m\u001b[43mstock_list\u001b[49m\u001b[38;5;241;43m=\u001b[39;49m\u001b[43mstock_list\u001b[49m\n\u001b[0;32m      9\u001b[0m \u001b[43m)\u001b[49m\n\u001b[0;32m     10\u001b[0m record \u001b[38;5;241m=\u001b[39m qmt_data\u001b[38;5;241m.\u001b[39mwrite_to_ftr_parallel(\n\u001b[0;32m     11\u001b[0m     stock_list\u001b[38;5;241m=\u001b[39mstock_list,\n\u001b[0;32m     12\u001b[0m     start_time\u001b[38;5;241m=\u001b[39mstart_time,\n\u001b[0;32m     13\u001b[0m     end_time\u001b[38;5;241m=\u001b[39mend_time,\n\u001b[0;32m     14\u001b[0m     period\u001b[38;5;241m=\u001b[39mperiod,\n\u001b[0;32m     15\u001b[0m )\n\u001b[0;32m     16\u001b[0m record_df \u001b[38;5;241m=\u001b[39m pd\u001b[38;5;241m.\u001b[39mDataFrame(record)\n",
      "File \u001b[1;32md:\\chengpt_trader\\qmt_data.py:108\u001b[0m, in \u001b[0;36mQmtData.download_data\u001b[1;34m(self, start_time, end_time, stock_list, period)\u001b[0m\n\u001b[0;32m    101\u001b[0m \u001b[38;5;28;01mfor\u001b[39;00m stock_code \u001b[38;5;129;01min\u001b[39;00m tqdm(stock_list, leave\u001b[38;5;241m=\u001b[39m\u001b[38;5;28;01mTrue\u001b[39;00m):\n\u001b[0;32m    102\u001b[0m     xtdata\u001b[38;5;241m.\u001b[39mdownload_history_data(\n\u001b[0;32m    103\u001b[0m         stock_code\u001b[38;5;241m=\u001b[39mstock_code,\n\u001b[0;32m    104\u001b[0m         start_time\u001b[38;5;241m=\u001b[39mstart_time,\n\u001b[0;32m    105\u001b[0m         end_time\u001b[38;5;241m=\u001b[39mend_time,\n\u001b[0;32m    106\u001b[0m         period\u001b[38;5;241m=\u001b[39mperiod,\n\u001b[0;32m    107\u001b[0m     )\n\u001b[1;32m--> 108\u001b[0m     \u001b[43mtqdm\u001b[49m\u001b[38;5;241;43m.\u001b[39;49m\u001b[43mwrite\u001b[49m\u001b[43m(\u001b[49m\u001b[38;5;124;43mf\u001b[39;49m\u001b[38;5;124;43m\"\u001b[39;49m\u001b[38;5;124;43mDownloaded data for \u001b[39;49m\u001b[38;5;132;43;01m{\u001b[39;49;00m\u001b[43mstock_code\u001b[49m\u001b[38;5;132;43;01m}\u001b[39;49;00m\u001b[38;5;124;43m\"\u001b[39;49m\u001b[43m)\u001b[49m\n",
      "File \u001b[1;32md:\\miniforge3\\envs\\my312\\Lib\\site-packages\\tqdm\\std.py:716\u001b[0m, in \u001b[0;36mtqdm.write\u001b[1;34m(cls, s, file, end, nolock)\u001b[0m\n\u001b[0;32m    713\u001b[0m                 inst\u001b[38;5;241m.\u001b[39mclear(nolock\u001b[38;5;241m=\u001b[39m\u001b[38;5;28;01mTrue\u001b[39;00m)\n\u001b[0;32m    714\u001b[0m                 inst\u001b[38;5;241m.\u001b[39mpos \u001b[38;5;241m=\u001b[39m \u001b[38;5;28mabs\u001b[39m(instance\u001b[38;5;241m.\u001b[39mpos)\n\u001b[1;32m--> 716\u001b[0m \u001b[38;5;129m@classmethod\u001b[39m\n\u001b[0;32m    717\u001b[0m \u001b[38;5;28;01mdef\u001b[39;00m \u001b[38;5;21mwrite\u001b[39m(\u001b[38;5;28mcls\u001b[39m, s, file\u001b[38;5;241m=\u001b[39m\u001b[38;5;28;01mNone\u001b[39;00m, end\u001b[38;5;241m=\u001b[39m\u001b[38;5;124m\"\u001b[39m\u001b[38;5;130;01m\\n\u001b[39;00m\u001b[38;5;124m\"\u001b[39m, nolock\u001b[38;5;241m=\u001b[39m\u001b[38;5;28;01mFalse\u001b[39;00m):\n\u001b[0;32m    718\u001b[0m \u001b[38;5;250m    \u001b[39m\u001b[38;5;124;03m\"\"\"Print a message via tqdm (without overlap with bars).\"\"\"\u001b[39;00m\n\u001b[0;32m    719\u001b[0m     fp \u001b[38;5;241m=\u001b[39m file \u001b[38;5;28;01mif\u001b[39;00m file \u001b[38;5;129;01mis\u001b[39;00m \u001b[38;5;129;01mnot\u001b[39;00m \u001b[38;5;28;01mNone\u001b[39;00m \u001b[38;5;28;01melse\u001b[39;00m sys\u001b[38;5;241m.\u001b[39mstdout\n",
      "\u001b[1;31mKeyboardInterrupt\u001b[0m: "
     ]
    }
   ],
   "source": [
    "qmt_data = QmtData()\n",
    "ticker_df = qmt_data.get_tickers()\n",
    "stock_list = ticker_df[\"ticker\"].tolist()\n",
    "start_time = today\n",
    "end_time = today\n",
    "period = \"1m\"\n",
    "qmt_data.download_data(\n",
    "    start_time=start_time, end_time=end_time, period=period, stock_list=stock_list\n",
    ")\n",
    "record = qmt_data.write_to_ftr_parallel(\n",
    "    stock_list=stock_list,\n",
    "    start_time=start_time,\n",
    "    end_time=end_time,\n",
    "    period=period,\n",
    ")\n",
    "record_df = pd.DataFrame(record)\n"
   ]
  },
  {
   "cell_type": "code",
   "execution_count": null,
   "metadata": {},
   "outputs": [],
   "source": [
    "os.makedirs(\n",
    "    \"D:/qmt_datadir/logging/\",\n",
    "    exist_ok=True,\n",
    ")\n",
    "record_df.to_excel(\n",
    "    f\"D:/qmt_datadir/logging/{end_time}_record_{period}.xlsx\",\n",
    "    index=False,\n",
    "    engine=\"openpyxl\",\n",
    ")"
   ]
  }
 ],
 "metadata": {
  "kernelspec": {
   "display_name": "my312",
   "language": "python",
   "name": "python3"
  },
  "language_info": {
   "codemirror_mode": {
    "name": "ipython",
    "version": 3
   },
   "file_extension": ".py",
   "mimetype": "text/x-python",
   "name": "python",
   "nbconvert_exporter": "python",
   "pygments_lexer": "ipython3",
   "version": "3.12.4"
  }
 },
 "nbformat": 4,
 "nbformat_minor": 2
}
