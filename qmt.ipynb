{
 "cells": [
  {
   "cell_type": "code",
   "execution_count": 1,
   "metadata": {},
   "outputs": [],
   "source": [
    "\n",
    "import pandas as pd\n",
    "from qmt_data import QmtData\n",
    "import os\n",
    "import datetime"
   ]
  },
  {
   "cell_type": "code",
   "execution_count": 2,
   "metadata": {},
   "outputs": [],
   "source": [
    "today = datetime.datetime.today().strftime(\"%Y%m%d\")"
   ]
  },
  {
   "cell_type": "code",
   "execution_count": 3,
   "metadata": {},
   "outputs": [
    {
     "name": "stdout",
     "output_type": "stream",
     "text": [
      "<Client: 'tcp://127.0.0.1:54607' processes=8 threads=16, memory=31.95 GiB>\n",
      "http://127.0.0.1:8787/status\n",
      "[                                        ] | 0% Completed | 116.19 ms"
     ]
    },
    {
     "name": "stderr",
     "output_type": "stream",
     "text": [
      "d:\\miniforge3\\envs\\my312\\Lib\\site-packages\\dask\\base.py:1487: UserWarning: Running on a single-machine scheduler when a distributed client is active might lead to unexpected results.\n",
      "  warnings.warn(\n"
     ]
    },
    {
     "name": "stdout",
     "output_type": "stream",
     "text": [
      "[########################################] | 100% Completed | 92.36 s\n"
     ]
    }
   ],
   "source": [
    "qmt_data = QmtData()\n",
    "ticker_df = qmt_data.get_tickers([\"沪深ETF\"])\n",
    "stock_list = ticker_df[\"ticker\"].tolist()\n",
    "start_time = \"20100101\"\n",
    "end_time = \"20240816\"\n",
    "period = \"5m\"\n",
    "# qmt_data.download_data(\n",
    "#     start_time=start_time, end_time=end_time, period=period, stock_list=stock_list\n",
    "# )\n",
    "record = qmt_data.write_to_ftr_parallel(\n",
    "    stock_list=stock_list,\n",
    "    start_time=start_time,\n",
    "    end_time=end_time,\n",
    "    period=period,\n",
    ")\n",
    "record_df = pd.DataFrame(record)\n"
   ]
  },
  {
   "cell_type": "code",
   "execution_count": 4,
   "metadata": {},
   "outputs": [],
   "source": [
    "os.makedirs(\n",
    "    \"D:/qmt_datadir/logging/\",\n",
    "    exist_ok=True,\n",
    ")\n",
    "record_df.to_excel(\n",
    "    f\"D:/qmt_datadir/logging/{end_time}_record_{period}.xlsx\",\n",
    "    index=False,\n",
    "    engine=\"openpyxl\",\n",
    ")"
   ]
  }
 ],
 "metadata": {
  "kernelspec": {
   "display_name": "my312",
   "language": "python",
   "name": "python3"
  },
  "language_info": {
   "codemirror_mode": {
    "name": "ipython",
    "version": 3
   },
   "file_extension": ".py",
   "mimetype": "text/x-python",
   "name": "python",
   "nbconvert_exporter": "python",
   "pygments_lexer": "ipython3",
   "version": "3.12.4"
  }
 },
 "nbformat": 4,
 "nbformat_minor": 2
}
